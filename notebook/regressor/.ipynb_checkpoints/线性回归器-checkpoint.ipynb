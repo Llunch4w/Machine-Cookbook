{
 "cells": [
  {
   "cell_type": "markdown",
   "metadata": {},
   "source": [
    "读取data_singlevar.txt中的数据"
   ]
  },
  {
   "cell_type": "code",
   "execution_count": 91,
   "metadata": {},
   "outputs": [],
   "source": [
    "import numpy as np\n",
    "x_data = []\n",
    "y_data = []\n",
    "with open('data_singlevar.txt','r') as f:\n",
    "    for line in f:\n",
    "        x,y = [float(i) for i in line.split(',')]\n",
    "        x_data.append(x)\n",
    "        y_data.append(y)"
   ]
  },
  {
   "cell_type": "markdown",
   "metadata": {},
   "source": [
    "建立及其学习模型时，需要用一种方法来验证模型，检查模型是否达到一定的满意度。为了实现这个方法，把数据分为两组：训练数据集与测试数据集。   \n",
    "训练数据集用来建立模型    \n",
    "测试数据集用来验证模型对未知数据的学习效果  "
   ]
  },
  {
   "cell_type": "code",
   "execution_count": 95,
   "metadata": {},
   "outputs": [
    {
     "name": "stdout",
     "output_type": "stream",
     "text": [
      "[2.85 4.86 1.31 3.99 2.92 4.72 3.83 2.58 2.89 1.99]\n"
     ]
    }
   ],
   "source": [
    "# 手动数据分割\n",
    "\n",
    "num_training = int(0.8*len(x_data))\n",
    "num_test = len(x_data) - num_training\n",
    "\n",
    "x_train = np.array(x_data[:num_training]).reshape((num_training,1))\n",
    "y_train = np.array(y_data[:num_training])\n",
    "\n",
    "x_test = np.array(x_data[num_training:]).reshape((num_test,1))\n",
    "y_test = np.array(y_data[num_training:])\n",
    "\n",
    "print(y_test)"
   ]
  },
  {
   "cell_type": "code",
   "execution_count": 94,
   "metadata": {},
   "outputs": [
    {
     "name": "stdout",
     "output_type": "stream",
     "text": [
      "[1.07 2.53 4.72 2.85 4.75 2.72 4.44 2.99 4.61 1.99]\n"
     ]
    }
   ],
   "source": [
    "# 利用库函数进行数据分割\n",
    "\n",
    "from sklearn.model_selection import train_test_split\n",
    "\n",
    "x_train,x_test,y_train,y_test = train_test_split(x_data,y_data,test_size=0.2)\n",
    "\n",
    "x_train = np.array(x_train).reshape((num_training,1))\n",
    "x_test = np.array(x_test).reshape((num_test,1))\n",
    "y_train = np.array(y_train)\n",
    "y_test = np.array(y_test)\n",
    "\n",
    "print(y_test)"
   ]
  },
  {
   "cell_type": "markdown",
   "metadata": {},
   "source": [
    "上面两种分割方法最后得到的结果不一样的原因是train_test_split函数是将数据打乱后分割的"
   ]
  },
  {
   "cell_type": "markdown",
   "metadata": {},
   "source": [
    "## 线性回归器"
   ]
  },
  {
   "cell_type": "markdown",
   "metadata": {},
   "source": [
    "我们利用训练数据集训练了线性回归器     \n",
    "向fit方法提供输入数据即可训练模型"
   ]
  },
  {
   "cell_type": "code",
   "execution_count": 99,
   "metadata": {},
   "outputs": [
    {
     "name": "stdout",
     "output_type": "stream",
     "text": [
      "[0.39217986]\n",
      "2.9135444769492036\n"
     ]
    }
   ],
   "source": [
    "from sklearn import linear_model\n",
    "\n",
    "# 创建线性回归对象\n",
    "linear_regressor = linear_model.LinearRegression()\n",
    "\n",
    "# 用训练数据集训练模型\n",
    "linear_regressor.fit(x_train,y_train)\n",
    "print(linear_regressor.coef_) # 系数\n",
    "print(linear_regressor.intercept_) # 截距"
   ]
  },
  {
   "cell_type": "markdown",
   "metadata": {},
   "source": [
    "用下面代码看看它如何拟合"
   ]
  },
  {
   "cell_type": "code",
   "execution_count": 97,
   "metadata": {},
   "outputs": [
    {
     "data": {
      "image/png": "[encoded data removed]",
      "text/plain": [
       "<Figure size 432x288 with 1 Axes>"
      ]
     },
     "metadata": {
      "needs_background": "light"
     },
     "output_type": "display_data"
    }
   ],
   "source": [
    "import matplotlib.pyplot as plt\n",
    "y_train_predict = linear_regressor.predict(x_train)\n",
    "plt.figure()\n",
    "plt.scatter(x_train,y_train,color='g')\n",
    "plt.scatter(x_test,y_test,color='r')\n",
    "plt.plot(x_train,y_train_predict,color='black',linewidth=4)\n",
    "plt.title('Training data')\n",
    "plt.show()"
   ]
  },
  {
   "cell_type": "markdown",
   "metadata": {},
   "source": [
    "接下来用模型对测试数据集进行预测，然后画出来看看"
   ]
  },
  {
   "cell_type": "code",
   "execution_count": 25,
   "metadata": {},
   "outputs": [
    {
     "data": {
      "image/png": "[encoded data removed]",
      "text/plain": [
       "<Figure size 432x288 with 1 Axes>"
      ]
     },
     "metadata": {
      "needs_background": "light"
     },
     "output_type": "display_data"
    }
   ],
   "source": [
    "y_test_predict = linear_regressor.predict(x_test)\n",
    "\n",
    "plt.scatter(x_test,y_test,color='green')\n",
    "plt.plot(x_test,y_test_predict,color='black',linewidth=2)\n",
    "plt.title('Test data')\n",
    "plt.show()"
   ]
  },
  {
   "cell_type": "markdown",
   "metadata": {},
   "source": [
    "## 计算回归准确性    \n",
    "回归器可以用许多不同指标进行衡量，部分指标如下所示：\n",
    "- 平均绝对误差：这是给定数据集的所有数据点的绝对误差平均值\n",
    "- 均方误差：这是给定数据集的所有数据点的误差的平方的平均值。这是最流行的指标之一。\n",
    "- 中位数绝对误差：这是给定数据集的所有数据点的误差的中位数。这个指标的主要优点是可以消除异常值的干扰。测试数据集中的单个坏点不会影响整个误差指标，均值误差指标会受到异常点的影响\n",
    "- 解释方差分：这个分数用于衡量我们的模型对数据集波动的解释能力。如果得分为1.0分，那么表明我们的模型是完美的。\n",
    "- R方得分：指确定性相关系数，用于衡量模型对未知样本预测效果。最好的得分是1.0,值也可能是负数。"
   ]
  },
  {
   "cell_type": "markdown",
   "metadata": {},
   "source": [
    "sklearn模块里有一个模块提供了计算所有指标的功能，代码演示如下"
   ]
  },
  {
   "cell_type": "code",
   "execution_count": 27,
   "metadata": {},
   "outputs": [
    {
     "name": "stdout",
     "output_type": "stream",
     "text": [
      "平均绝对误差 =  0.73\n",
      "均方误差 =  0.6\n",
      "中位数绝对误差 =  0.76\n",
      "解释方差分 =  0.66\n",
      "R方得分 =  0.65\n"
     ]
    }
   ],
   "source": [
    "import sklearn.metrics as sm\n",
    "\n",
    "print('平均绝对误差 = ',round(sm.mean_absolute_error(y_test,y_test_predict),2))\n",
    "print('均方误差 = ',round(sm.mean_squared_error(y_test,y_test_predict),2))\n",
    "print('中位数绝对误差 = ',round(sm.median_absolute_error(y_test,y_test_predict),2))\n",
    "print('解释方差分 = ',round(sm.explained_variance_score(y_test,y_test_predict),2))\n",
    "print('R方得分 = ',round(sm.r2_score(y_test,y_test_predict),2))\n"
   ]
  },
  {
   "cell_type": "markdown",
   "metadata": {},
   "source": [
    "每个指标都描述得面面俱到是非常乏味的，因此只选择一两个指标来评估我们的模型。    \n",
    "通常的做法是尽量保证均方误差最低，而且解释方差分最高"
   ]
  },
  {
   "cell_type": "markdown",
   "metadata": {},
   "source": [
    "## 保存模型数据   \n",
    "模型训练结束之后，如果能够把模型保存为文件，那么下次使用的时候，只要简单地加载就可以了\n"
   ]
  },
  {
   "cell_type": "code",
   "execution_count": 29,
   "metadata": {},
   "outputs": [],
   "source": [
    "import pickle\n",
    "\n",
    "output_model_file = 'saved_model.pkl'\n",
    "with open(output_model_file,'wb') as f:\n",
    "    pickle.dump(linear_regressor,f)"
   ]
  },
  {
   "cell_type": "markdown",
   "metadata": {},
   "source": [
    "回归模型会保存在saved_model.pkl文件中，下面演示如何加载并使用它"
   ]
  },
  {
   "cell_type": "code",
   "execution_count": 31,
   "metadata": {},
   "outputs": [
    {
     "name": "stdout",
     "output_type": "stream",
     "text": [
      "新均方误差 =  0.6\n"
     ]
    }
   ],
   "source": [
    "with open(output_model_file,'rb') as f:\n",
    "    model_linear = pickle.load(f)\n",
    "    \n",
    "y_test_pred_new = model_linear.predict(x_test)\n",
    "print('新均方误差 = ',round(sm.mean_squared_error(y_test,y_test_pred_new),2))"
   ]
  },
  {
   "cell_type": "markdown",
   "metadata": {},
   "source": [
    "## 岭回归器\n",
    "线性回归的主要问题是对异常值敏感。    \n",
    "在真实世界的数据收集过程中，经常会遇到错误的度量结果。而线性回归使用的普通最小二乘法，其目标是使平方误差最小化。\n",
    "这时，由于异常值误差绝对值很大，因此会引起问题，从而破坏整个模型。    "
   ]
  },
  {
   "cell_type": "code",
   "execution_count": 86,
   "metadata": {},
   "outputs": [
    {
     "name": "stdout",
     "output_type": "stream",
     "text": [
      "平均绝对误差 =  3.95\n",
      "均方误差 =  23.13\n",
      "中位数绝对误差 =  3.69\n",
      "解释方差分 =  0.84\n",
      "R方得分 =  0.83\n"
     ]
    }
   ],
   "source": [
    "# 从data_multivar中读入数据\n",
    "import numpy as np\n",
    "x_data = []\n",
    "y_data = []\n",
    "with open('data_multivar.txt','r') as f:\n",
    "    for line in f:\n",
    "        data = [float(i) for i in line.split(',')]\n",
    "        x,y = data[:-1],data[-1]\n",
    "        x_data.append(x)\n",
    "        y_data.append(y)\n",
    "        \n",
    "# 分割训练集和测试集\n",
    "num_training = int(0.8*len(x_data))\n",
    "num_test = len(x_data) - num_training\n",
    "\n",
    "x_train = np.array(x_data[:num_training])\n",
    "y_train = np.array(y_data[:num_training])\n",
    "\n",
    "x_test = np.array(x_data[num_training:])\n",
    "y_test = np.array(y_data[num_training:])\n",
    "\n",
    "# 初始化岭回归器\n",
    "ridge_regressor = linear_model.Ridge(alpha=1,fit_intercept=True,max_iter=10000)\n",
    "# alpha参数控制回归器的复杂程度，当alpha趋于0时，岭回归器就是普通的线性回归器\n",
    "# 如果希望模型对异常值不那么敏感，就需要设置一个较大的alpha值\n",
    "\n",
    "# 训练岭回归器\n",
    "ridge_regressor.fit(x_train,y_train)\n",
    "y_test_pred_ridge = ridge_regressor.predict(x_test)\n",
    "\n",
    "print('平均绝对误差 = ',round(sm.mean_absolute_error(y_test,y_test_pred_ridge),2))\n",
    "print('均方误差 = ',round(sm.mean_squared_error(y_test,y_test_pred_ridge),2))\n",
    "print('中位数绝对误差 = ',round(sm.median_absolute_error(y_test,y_test_pred_ridge),2))\n",
    "print('解释方差分 = ',round(sm.explained_variance_score(y_test,y_test_pred_ridge),2))\n",
    "print('R方得分 = ',round(sm.r2_score(y_test,y_test_pred_ridge),2))"
   ]
  },
  {
   "cell_type": "markdown",
   "metadata": {},
   "source": [
    "## 多项式回归器\n",
    "线性回归模型的一个主要局限性在于它只能把输入数据拟合成直线，而多项式回归模型通过拟合多项式来克服这类问题"
   ]
  },
  {
   "cell_type": "code",
   "execution_count": 87,
   "metadata": {},
   "outputs": [],
   "source": [
    "from sklearn.preprocessing import PolynomialFeatures\n",
    "polynomial = PolynomialFeatures(degree=3)\n",
    "# degree将曲线的多项式次数的初始值设置为3\n",
    "\n",
    "x_train_transformed = polynomial.fit_transform(x_train)"
   ]
  },
  {
   "cell_type": "markdown",
   "metadata": {},
   "source": [
    "接下来用文件中第一个数据点来检查多项式模型是否能够准确预测"
   ]
  },
  {
   "cell_type": "code",
   "execution_count": 88,
   "metadata": {},
   "outputs": [
    {
     "name": "stdout",
     "output_type": "stream",
     "text": [
      "\n",
      "Linear regression:\n",
      " -11.05872949833589\n",
      "\n",
      "Polynomial regression:\n",
      " -10.948078212166799\n"
     ]
    }
   ],
   "source": [
    "datapoint = np.array([0.39,2.78,7.11]).reshape((1,3))\n",
    "linear_regressor = linear_model.LinearRegression()\n",
    "linear_regressor.fit(x_train,y_train)\n",
    "print(\"\\nLinear regression:\\n\", linear_regressor.predict(datapoint)[0])\n",
    "\n",
    "datapoint = np.array([0.39,2.78,7.11]).reshape((1,3))\n",
    "poly_datapoint = polynomial.fit_transform(datapoint)\n",
    "poly_linear_model = linear_model.LinearRegression()\n",
    "poly_linear_model.fit(x_train_transformed, y_train)\n",
    "print(\"\\nPolynomial regression:\\n\", poly_linear_model.predict(poly_datapoint)[0])"
   ]
  },
  {
   "cell_type": "markdown",
   "metadata": {},
   "source": [
    "可以发现多项式回归模型的预测值更接近实际的输出值。    \n",
    "如果想要数据更接近实际输出值，就需要增加多项式的次数"
   ]
  },
  {
   "cell_type": "code",
   "execution_count": 89,
   "metadata": {},
   "outputs": [
    {
     "name": "stdout",
     "output_type": "stream",
     "text": [
      "\n",
      "Polynomial regression:\n",
      " -8.148719326274659\n"
     ]
    }
   ],
   "source": [
    "# 将多项式的次数增加到10\n",
    "polynomial = PolynomialFeatures(degree=10)\n",
    "x_train_transformed = polynomial.fit_transform(x_train)\n",
    "poly_linear_model = linear_model.LinearRegression()\n",
    "poly_linear_model.fit(x_train_transformed, y_train)\n",
    "\n",
    "datapoint = np.array([0.39,2.78,7.11]).reshape((1,3))\n",
    "poly_datapoint = polynomial.fit_transform(datapoint)\n",
    "print(\"\\nPolynomial regression:\\n\", poly_linear_model.predict(poly_datapoint)[0])"
   ]
  }
 ],
 "metadata": {
  "kernelspec": {
   "display_name": "Python 3",
   "language": "python",
   "name": "python3"
  },
  "language_info": {
   "codemirror_mode": {
    "name": "ipython",
    "version": 3
   },
   "file_extension": ".py",
   "mimetype": "text/x-python",
   "name": "python",
   "nbconvert_exporter": "python",
   "pygments_lexer": "ipython3",
   "version": "3.6.6"
  }
 },
 "nbformat": 4,
 "nbformat_minor": 2
}
