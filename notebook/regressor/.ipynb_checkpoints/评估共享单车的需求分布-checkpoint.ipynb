{
 "cells": [
  {
   "cell_type": "markdown",
   "metadata": {},
   "source": [
    "本项目将采用随机森林回归器估计输出结果    \n",
    "\n",
    "**随机森林回归器**    \n",
    "随机森林是一个决策树集合，它基本上就是用一句由数据集的若干子集构建的决策树构成，再利用决策树平均值改善整体学习效果"
   ]
  },
  {
   "cell_type": "code",
   "execution_count": 32,
   "metadata": {},
   "outputs": [],
   "source": [
    "import csv\n",
    "import numpy as np\n",
    "from sklearn.utils import shuffle\n",
    "from sklearn.metrics import mean_squared_error,explained_variance_score\n",
    "from sklearn.ensemble import RandomForestRegressor\n",
    "import matplotlib.pyplot as plt\n",
    "\n",
    "def plot_feature_importances(feature_importances,title,feature_names):\n",
    "    # 将重要性能标准化\n",
    "    feature_importances = 100.0 * (feature_importances/max(feature_importances))\n",
    "    \n",
    "    # 将得分从高到低排序\n",
    "    # flipud是为了倒序\n",
    "    index_sorted = np.flipud(np.argsort(feature_importances))\n",
    "    \n",
    "    # 让X坐标轴上的标签居中显示\n",
    "    pos = np.arange(index_sorted.shape[0]) + 0.5\n",
    "    \n",
    "    #画条形图\n",
    "    plt.figure()\n",
    "    plt.bar(pos,feature_importances[index_sorted],align='center')\n",
    "    plt.xticks(pos,feature_names[index_sorted])\n",
    "    plt.ylabel('Relative Importance')\n",
    "    plt.title(title)\n",
    "    plt.show()\n",
    "    \n",
    "def load_dataset(filename):\n",
    "    file_reader = csv.reader(open(filename,'r'),delimiter=',')\n",
    "    x_data,y_data = [],[]\n",
    "    for row in file_reader:\n",
    "        x_data.append(row[2:15])\n",
    "        y_data.append(row[-1])\n",
    "    \n",
    "    # 提取特征名\n",
    "    feature_names = np.array(x_data[0])\n",
    "    \n",
    "    # 将第一行特征名称移除，仅保留数值\n",
    "    return np.array(x_data[1:]).astype(np.float32),np.array(y_data[1:]).astype(np.float32),feature_names"
   ]
  },
  {
   "cell_type": "code",
   "execution_count": 34,
   "metadata": {},
   "outputs": [
    {
     "ename": "AttributeError",
     "evalue": "'RandomForestRegressor' object has no attribute 'coef_'",
     "output_type": "error",
     "traceback": [
      "\u001b[1;31m---------------------------------------------------------------------------\u001b[0m",
      "\u001b[1;31mAttributeError\u001b[0m                            Traceback (most recent call last)",
      "\u001b[1;32m<ipython-input-34-395acfa07b09>\u001b[0m in \u001b[0;36m<module>\u001b[1;34m\u001b[0m\n\u001b[0;32m     11\u001b[0m \u001b[0mrf_regressor\u001b[0m \u001b[1;33m=\u001b[0m \u001b[0mRandomForestRegressor\u001b[0m\u001b[1;33m(\u001b[0m\u001b[0mn_estimators\u001b[0m\u001b[1;33m=\u001b[0m\u001b[1;36m1000\u001b[0m\u001b[1;33m,\u001b[0m\u001b[0mmax_depth\u001b[0m\u001b[1;33m=\u001b[0m\u001b[1;36m10\u001b[0m\u001b[1;33m)\u001b[0m\u001b[1;33m\u001b[0m\u001b[0m\n\u001b[0;32m     12\u001b[0m \u001b[0mrf_regressor\u001b[0m\u001b[1;33m.\u001b[0m\u001b[0mfit\u001b[0m\u001b[1;33m(\u001b[0m\u001b[0mx_train\u001b[0m\u001b[1;33m,\u001b[0m\u001b[0my_train\u001b[0m\u001b[1;33m)\u001b[0m\u001b[1;33m\u001b[0m\u001b[0m\n\u001b[1;32m---> 13\u001b[1;33m \u001b[0mprint\u001b[0m\u001b[1;33m(\u001b[0m\u001b[0mrf_regressor\u001b[0m\u001b[1;33m.\u001b[0m\u001b[0mcoef_\u001b[0m\u001b[1;33m)\u001b[0m\u001b[1;33m\u001b[0m\u001b[0m\n\u001b[0m\u001b[0;32m     14\u001b[0m \u001b[1;31m# n_eatimators指评估器的数量，表示随机森林需要使用的决策树数量\u001b[0m\u001b[1;33m\u001b[0m\u001b[1;33m\u001b[0m\u001b[0m\n\u001b[0;32m     15\u001b[0m \u001b[1;31m# max_depth是每个决策树的最大深度\u001b[0m\u001b[1;33m\u001b[0m\u001b[1;33m\u001b[0m\u001b[0m\n",
      "\u001b[1;31mAttributeError\u001b[0m: 'RandomForestRegressor' object has no attribute 'coef_'"
     ]
    }
   ],
   "source": [
    "# 读取数据，打乱顺序\n",
    "x_data,y_data,feature_names = load_dataset('bike_day.csv')\n",
    "x_data,y_data = shuffle(x_data,y_data,random_state=7)\n",
    "\n",
    "# 划分训练集\n",
    "num_training = int(0.9 * len(x_data))\n",
    "x_train,y_train = x_data[:num_training],y_data[:num_training]\n",
    "x_test,y_test = x_data[num_training:],y_data[num_training:]\n",
    "\n",
    "# 训练回归器\n",
    "rf_regressor = RandomForestRegressor(n_estimators=1000,max_depth=10)\n",
    "rf_regressor.fit(x_train,y_train)\n",
    "# n_eatimators指评估器的数量，表示随机森林需要使用的决策树数量\n",
    "# max_depth是每个决策树的最大深度\n",
    "# min_samples_split是指决策树分裂一个节点需要用到的最小数据样本量\n",
    "\n",
    "# 评估随机森林分类器的训练效果\n",
    "y_pred_rf = rf_regressor.predict(x_test)\n",
    "mse = mean_squared_error(y_test, y_pred_rf)\n",
    "evs = explained_variance_score(y_test, y_pred_rf) \n",
    "print(\"#### Random Forest Regressor performance ####\")\n",
    "print(\"Mean squared error =\", round(mse, 2))\n",
    "print(\"Explained variance score =\", round(evs, 2))"
   ]
  },
  {
   "cell_type": "code",
   "execution_count": 29,
   "metadata": {},
   "outputs": [
    {
     "data": {
      "image/png": "[encoded data removed]",
      "text/plain": [
       "<Figure size 432x288 with 1 Axes>"
      ]
     },
     "metadata": {
      "needs_background": "light"
     },
     "output_type": "display_data"
    }
   ],
   "source": [
    "plot_feature_importances(rf_regressor.feature_importances_,'Random Forest Regressor',feature_names)"
   ]
  },
  {
   "cell_type": "markdown",
   "metadata": {},
   "source": [
    "看来温度(temp)是影响自行车租赁的最重要因素"
   ]
  }
 ],
 "metadata": {
  "kernelspec": {
   "display_name": "Python 3",
   "language": "python",
   "name": "python3"
  },
  "language_info": {
   "codemirror_mode": {
    "name": "ipython",
    "version": 3
   },
   "file_extension": ".py",
   "mimetype": "text/x-python",
   "name": "python",
   "nbconvert_exporter": "python",
   "pygments_lexer": "ipython3",
   "version": "3.6.6"
  }
 },
 "nbformat": 4,
 "nbformat_minor": 2
}
