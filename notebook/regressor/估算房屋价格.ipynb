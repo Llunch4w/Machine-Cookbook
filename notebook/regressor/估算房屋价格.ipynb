{
 "cells": [
  {
   "cell_type": "markdown",
   "metadata": {},
   "source": [
    "本项目将使用带AdaBoost算法的决策树回归器来解决房屋价格预测问题    \n",
    "\n",
    "**决策树**    \n",
    "决策树是一个树状模型，每个节点都做出一个决策，从而影响最终结果。    \n",
    "叶子结点表示输出数值，分支表示根据输入特征做出的中间决策。    \n",
    "AdaBoost算法是指自适应增强（adaptive boosting）算法，这是一种利用其它系统增强模型准确性的技术。这种技术\n",
    "是将不同版本的算法结果进行组合，用加权汇总的方式获得最终结果，被称为弱学习器。AdaBoost算法在每个阶段获取\n",
    "的信息都会反馈到模型中，这样学习器就可以在后一阶段重点训练难以分类的样本。这种学习方式可以增强系统的准确性。   \n",
    "\n",
    "**基本思路**    \n",
    "首先使用AdaBoost算法对数据集进行回归拟合，再计算误差，然后根据误差评估结果，用同样的数据集重新拟合，  \n",
    "可以把这些看作回归器的调优过程，直到达到预期的准确性。   "
   ]
  },
  {
   "cell_type": "code",
   "execution_count": 3,
   "metadata": {},
   "outputs": [
    {
     "data": {
      "text/plain": [
       "AdaBoostRegressor(base_estimator=DecisionTreeRegressor(criterion='mse',\n",
       "                                                       max_depth=4,\n",
       "                                                       max_features=None,\n",
       "                                                       max_leaf_nodes=None,\n",
       "                                                       min_impurity_decrease=0.0,\n",
       "                                                       min_impurity_split=None,\n",
       "                                                       min_samples_leaf=1,\n",
       "                                                       min_samples_split=2,\n",
       "                                                       min_weight_fraction_leaf=0.0,\n",
       "                                                       presort=False,\n",
       "                                                       random_state=None,\n",
       "                                                       splitter='best'),\n",
       "                  learning_rate=1.0, loss='linear', n_estimators=400,\n",
       "                  random_state=7)"
      ]
     },
     "execution_count": 3,
     "metadata": {},
     "output_type": "execute_result"
    }
   ],
   "source": [
    "import numpy as np\n",
    "from sklearn.tree import DecisionTreeRegressor\n",
    "from sklearn.ensemble import AdaBoostRegressor\n",
    "from sklearn import datasets\n",
    "from sklearn.metrics import mean_squared_error,explained_variance_score\n",
    "from sklearn.utils import shuffle\n",
    "import matplotlib.pyplot as plt\n",
    "\n",
    "housing_data = datasets.load_boston()\n",
    "# 每个数据点由影响房价的13个输入参数构成\n",
    "# 可以用housing_data.data获取输入数据，用housing_data.target获取对应的房屋价格\n",
    "\n",
    "# 接下来将输入数据和输出结果分成不同的变量，可通过shuffle把数据的顺序打乱\n",
    "x,y = shuffle(housing_data.data,housing_data.target,random_state=7)\n",
    "\n",
    "num_training = int(0.8*len(x))\n",
    "x_train,y_train = x[:num_training],y[:num_training]\n",
    "x_test,y_test = x[num_training:],y[num_training:]\n",
    "\n",
    "# 选一个最大深度为4的决策树，这样可以限制决策树不变成任意深度\n",
    "dt_regressor = DecisionTreeRegressor(max_depth=4)\n",
    "dt_regressor.fit(x_train,y_train)\n",
    "\n",
    "# 再用带AdaBoost算法的决策树回归模型进行拟合\n",
    "ab_regressor = AdaBoostRegressor(DecisionTreeRegressor(max_depth=4),n_estimators=400,random_state=7)\n",
    "ab_regressor.fit(x_train,y_train)"
   ]
  },
  {
   "cell_type": "code",
   "execution_count": 7,
   "metadata": {},
   "outputs": [
    {
     "name": "stdout",
     "output_type": "stream",
     "text": [
      "#### 决策树学习效果 #### \n",
      "均方误差 =  14.79\n",
      "解释方差分 =  0.82\n"
     ]
    }
   ],
   "source": [
    "# 评价决策树回归器的训练效果\n",
    "y_pred_dt = dt_regressor.predict(x_test)\n",
    "mse = mean_squared_error(y_test,y_pred_dt)\n",
    "evs = explained_variance_score(y_test,y_pred_dt)\n",
    "print(\"#### 决策树学习效果 #### \")\n",
    "print('均方误差 = ',round(mse,2))\n",
    "print('解释方差分 = ',round(evs,2))"
   ]
  },
  {
   "cell_type": "code",
   "execution_count": 9,
   "metadata": {},
   "outputs": [
    {
     "name": "stdout",
     "output_type": "stream",
     "text": [
      "#### AdaBoost performance ####\n",
      "Mean squared error = 7.66\n",
      "Explained variance score = 0.91\n"
     ]
    }
   ],
   "source": [
    "# 评价AdaBoost算法改善的效果\n",
    "y_pred_ab = ab_regressor.predict(x_test)\n",
    "mse = mean_squared_error(y_test, y_pred_ab)\n",
    "evs = explained_variance_score(y_test, y_pred_ab) \n",
    "print(\"#### AdaBoost performance ####\")\n",
    "print(\"Mean squared error =\", round(mse, 2))\n",
    "print(\"Explained variance score =\", round(evs, 2))"
   ]
  },
  {
   "cell_type": "markdown",
   "metadata": {},
   "source": [
    "上述结果可以说明，AdaBoost算法可以让误差更小，且解释方差更接近1"
   ]
  },
  {
   "cell_type": "markdown",
   "metadata": {},
   "source": [
    "**计算特征的相对重要性**    \n",
    "所有特征都同等重要吗？在这个案例里，我们用了13个特征，它们对模型都有贡献。但是，所有特征对结果的贡献是不一样的。如果需要忽略一些\n",
    "特征，就要知道哪些特征不太重要。sklearn模块中就要判断特征相对重要性的功能。"
   ]
  },
  {
   "cell_type": "code",
   "execution_count": 18,
   "metadata": {},
   "outputs": [
    {
     "data": {
      "image/png": "[encoded data removed]",
      "text/plain": [
       "<Figure size 432x288 with 1 Axes>"
      ]
     },
     "metadata": {
      "needs_background": "light"
     },
     "output_type": "display_data"
    },
    {
     "data": {
      "image/png": "[encoded data removed]",
      "text/plain": [
       "<Figure size 432x288 with 1 Axes>"
      ]
     },
     "metadata": {
      "needs_background": "light"
     },
     "output_type": "display_data"
    }
   ],
   "source": [
    "def plot_feature_importances(feature_importances,title,feature_names):\n",
    "    # 将重要性能标准化\n",
    "    feature_importances = 100.0 * (feature_importances/max(feature_importances))\n",
    "    \n",
    "    # 将得分从高到低排序\n",
    "    # flipud是为了倒序\n",
    "    index_sorted = np.flipud(np.argsort(feature_importances))\n",
    "    \n",
    "    # 让X坐标轴上的标签居中显示\n",
    "    pos = np.arange(index_sorted.shape[0]) + 0.5\n",
    "    \n",
    "    #画条形图\n",
    "    plt.figure()\n",
    "    plt.bar(pos,feature_importances[index_sorted],align='center')\n",
    "    plt.xticks(pos,feature_names[index_sorted])\n",
    "    plt.ylabel('Relative Importance')\n",
    "    plt.title(title)\n",
    "    plt.show()\n",
    "\n",
    "plot_feature_importances(dt_regressor.feature_importances_,'Decision Tree Regressor',housing_data.feature_names)\n",
    "plot_feature_importances(ab_regressor.feature_importances_,'AdaBoost Regressor',housing_data.feature_names)"
   ]
  }
 ],
 "metadata": {
  "kernelspec": {
   "display_name": "Python 3",
   "language": "python",
   "name": "python3"
  },
  "language_info": {
   "codemirror_mode": {
    "name": "ipython",
    "version": 3
   },
   "file_extension": ".py",
   "mimetype": "text/x-python",
   "name": "python",
   "nbconvert_exporter": "python",
   "pygments_lexer": "ipython3",
   "version": "3.6.6"
  }
 },
 "nbformat": 4,
 "nbformat_minor": 2
}
