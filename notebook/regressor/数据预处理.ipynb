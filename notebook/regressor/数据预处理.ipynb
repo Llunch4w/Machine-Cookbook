{
 "cells": [
  {
   "cell_type": "markdown",
   "metadata": {},
   "source": [
    "# 准备工作\n",
    "- 安装numpy和sklearn两个库\n",
    "- 用numpy产生随机数组或随机矩阵方便做下面实验的原材料"
   ]
  },
  {
   "cell_type": "code",
   "execution_count": 30,
   "metadata": {},
   "outputs": [
    {
     "name": "stdout",
     "output_type": "stream",
     "text": [
      "------------1------------\n",
      "[6 5 2 8 7]\n",
      "------------2------------\n",
      "[[17  0 15 12  5]\n",
      " [ 1  8  4  8  6]\n",
      " [ 8 14  9  5  4]]\n",
      "------------3------------\n",
      "[[0.11725748 0.84913775 0.4698856  0.33371698]\n",
      " [0.61886667 0.73883381 0.08490059 0.7589196 ]\n",
      " [0.49287944 0.38084506 0.64894888 0.27979969]]\n",
      "------------4------------\n",
      "[[0.04988654 0.55817434 0.98992696 0.93728149]\n",
      " [0.69383659 0.78924148 0.0195909  0.79052731]\n",
      " [0.16305453 0.0634416  0.71749908 0.80102183]]\n",
      "------------5------------\n",
      "[ 0.09639386 -0.14464671 -0.53270222  0.65645438  0.98864407]\n",
      "------------6------------\n",
      "[[ 0.76406542  0.3937046   1.22967431]\n",
      " [-1.22555174  1.30587002 -1.5522105 ]]\n"
     ]
    }
   ],
   "source": [
    "# 以下是几种产生随机数的方法\n",
    "import numpy as np\n",
    "import numpy.random as rand\n",
    "print(\"------------1------------\")\n",
    "A = rand.randint(0,10,5) # 1.生成[0,10)之间长度为5的随机数组\n",
    "print(A)\n",
    "print(\"------------2------------\")\n",
    "A = rand.randint(0,20,[3,5]) # 2.生成[0,20)之间维度为为(3,5)的随机矩阵\n",
    "print(A)\n",
    "print(\"------------3------------\")\n",
    "A = rand.rand(3,4) # 3.生成[0,1)之间维度为为(3,5)的随机矩阵\n",
    "print(A)\n",
    "print(\"------------4------------\")\n",
    "A = rand.random((3,4)) # 4.生成[0,1)之间维度为为(3,5)的随机矩阵\n",
    "print(A)\n",
    "print(\"------------5------------\")\n",
    "A = rand.randn(5) # 5.返回一个样本数组，具有标准正态分布\n",
    "print(A)\n",
    "print(\"------------6------------\")\n",
    "A = rand.randn(2,3) # 5.返回一个样本矩阵，具有标准正态分布\n",
    "print(A)"
   ]
  },
  {
   "cell_type": "markdown",
   "metadata": {},
   "source": [
    "# 均值移除（Mean Removal）\n",
    "\n",
    "**含义**             \n",
    "通常我们会把每个特征的平均值移除，以保证特征均值为0（即标准化处理）。这样做可以消除特征彼此之间的偏差。     \n",
    "通俗来说，就是将训练集中某一列数值特征（假设是第i列）的值缩放成均值为0，方差为1的状态      \n",
    "\n",
    "**作用**     \n",
    "- 标准化更好保持了样本间距。当样本中有异常点时，归一化有可能将正常的样本“挤”到一起去。比如三个样本，某个特征的值为1,2,10000，假设10000这个值是异常值，用归一化的方法后，正常的1,2就会被“挤”到一起去。如果不幸的是1和2的分类标签还是相反的，那么，当我们用梯度下降来做分类模型训练时，模型会需要更长的时间收敛，因为将样本分开需要更大的努力！而标准化在这方面就做得很好，至少它不会将样本“挤到一起”\n",
    "- 标准化更符合统计学假设     \n",
    "对一个数值特征来说，很大可能它是服从正态分布的。标准化其实是基于这个隐含假设，只不过是略施小技，将这个正态分布调整为均值为0，方差为1的标准正态分布而已。"
   ]
  },
  {
   "cell_type": "code",
   "execution_count": 61,
   "metadata": {},
   "outputs": [
    {
     "name": "stdout",
     "output_type": "stream",
     "text": [
      "-----------------初始矩阵状态-----------------------------\n",
      "[[ -8  14   3   4]\n",
      " [  8   9   4  14]\n",
      " [  4  -3  -8 -10]]\n",
      "Mean =  [ 1.33333333  6.66666667 -0.33333333  2.66666667]\n",
      "Std Deviation =  [6.79869268 7.13364485 5.43650214 9.84321537]\n",
      "-----------------------------------------------------------\n",
      "-----------------标准化后矩阵状态-----------------------------\n",
      "[[-1.37281295  1.02799249  0.61313934  0.13545709]\n",
      " [ 0.98058068  0.32708852  0.79708114  1.15138528]\n",
      " [ 0.39223227 -1.35508101 -1.41022048 -1.28684238]]\n",
      "Mean =  [ 3.70074342e-17 -7.40148683e-17  0.00000000e+00  0.00000000e+00]\n",
      "Std Deviation =  [1. 1. 1. 1.]\n",
      "-----------------------------------------------------------\n"
     ]
    }
   ],
   "source": [
    "import numpy.random as rd\n",
    "from sklearn import preprocessing as prework\n",
    "\n",
    "# 产生一个随机数矩阵\n",
    "print(\"-----------------初始矩阵状态-----------------------------\")\n",
    "data = rd.randint(-10,20,[3,4])\n",
    "print(data)\n",
    "print(r'Mean = ',data.mean(axis=0))\n",
    "print(r'Std Deviation = ',data.std(axis=0))\n",
    "print(\"-----------------------------------------------------------\")\n",
    "\n",
    "# 通过preprocessing这个库函数使data的特征均值变为0\n",
    "print(\"-----------------标准化后矩阵状态-----------------------------\")\n",
    "data_std = prework.scale(data)\n",
    "print(data_std)\n",
    "print(r'Mean = ',data_std.mean(axis=0))\n",
    "print(r'Std Deviation = ',data_std.std(axis=0))\n",
    "print(\"-----------------------------------------------------------\")\n",
    "\n",
    "## -----------------------------------\n",
    "## 可以发现标准化后数据的特征均值几乎为0，标准差为1\n",
    "## -----------------------------------"
   ]
  },
  {
   "cell_type": "markdown",
   "metadata": {},
   "source": [
    "# 范围缩放（Scaling）\n",
    "数据点中每个特征的数值范围可能变化很大，因此，有时将特征的数值范围缩放到合理的大小是非常重要的      \n",
    "范围缩放其实有一点类似标准化，不同点可能在于：     \n",
    "- 范围缩放最终的目标范围是可以通过参数指定的\n",
    "- 范围缩放最终结果矩阵中每个特征（即每一列）不一定满足标准正态分布，而标准化满足"
   ]
  },
  {
   "cell_type": "code",
   "execution_count": 70,
   "metadata": {},
   "outputs": [
    {
     "name": "stdout",
     "output_type": "stream",
     "text": [
      "-----------------初始矩阵状态-----------------------------\n",
      "[[11  8  7  4]\n",
      " [17 14  0 -6]\n",
      " [-1  8 -6  6]]\n",
      "Mean =  [ 9.         10.          0.33333333  1.33333333]\n",
      "Std Deviation =  [7.48331477 2.82842712 5.31245915 5.24933858]\n",
      "-----------------------------------------------------------\n",
      "-----------------范围缩放后矩阵状态-----------------------------\n",
      "[[0.66666667 0.         1.         0.83333333]\n",
      " [1.         1.         0.46153846 0.        ]\n",
      " [0.         0.         0.         1.        ]]\n",
      "Mean =  [0.55555556 0.33333333 0.48717949 0.61111111]\n",
      "Std Deviation =  [0.41573971 0.47140452 0.4086507  0.43744488]\n",
      "-----------------------------------------------------------\n"
     ]
    }
   ],
   "source": [
    "import numpy.random as rd\n",
    "from sklearn import preprocessing as prework\n",
    "\n",
    "# 产生一个随机数矩阵\n",
    "print(\"-----------------初始矩阵状态-----------------------------\")\n",
    "data = rd.randint(-10,20,[3,4])\n",
    "print(data)\n",
    "print(r'Mean = ',data.mean(axis=0))\n",
    "print(r'Std Deviation = ',data.std(axis=0))\n",
    "print(\"-----------------------------------------------------------\")\n",
    "\n",
    "print(\"-----------------范围缩放后矩阵状态-----------------------------\")\n",
    "data_scaler = prework.MinMaxScaler(feature_range=(0,1))\n",
    "data_scaled = data_scaler.fit_transform(data)\n",
    "print(data_scaled)\n",
    "print(r'Mean = ',data_scaled.mean(axis=0))\n",
    "print(r'Std Deviation = ',data_scaled.std(axis=0))\n",
    "print(\"-----------------------------------------------------------\")"
   ]
  },
  {
   "cell_type": "markdown",
   "metadata": {},
   "source": [
    "# 归一化(Normalization)\n",
    "数据归一化用于需要对特征向量的值进行调整时，以保证每个特征向量的值都缩放的相同的数值范围。机器学习中最常用的归一化形式就是将特征向量调整为L1范数，使特征向量的数值之和为1.      \n",
    "这个方法经常用于确保数据点没有因为特征的基本性质而产生较大的差异，即确保数据处于同一数量级，提高不同特征数据的可比性。"
   ]
  },
  {
   "cell_type": "code",
   "execution_count": 72,
   "metadata": {},
   "outputs": [
    {
     "name": "stdout",
     "output_type": "stream",
     "text": [
      "-----------------初始矩阵状态-----------------------------\n",
      "[[ 4  1 -2 -7]\n",
      " [-1  0  2 -9]\n",
      " [-2 10 12  3]]\n",
      "Mean =  [ 0.33333333  3.66666667  4.         -4.33333333]\n",
      "Std Deviation =  [2.62466929 4.49691252 5.88784058 5.24933858]\n",
      "-----------------------------------------------------------\n",
      "-----------------范围缩放后矩阵状态-----------------------------\n",
      "[[ 0.28571429  0.07142857 -0.14285714 -0.5       ]\n",
      " [-0.08333333  0.          0.16666667 -0.75      ]\n",
      " [-0.07407407  0.37037037  0.44444444  0.11111111]]\n",
      "Mean =  [ 0.04276896  0.14726631  0.15608466 -0.37962963]\n",
      "Std Deviation =  [0.17182987 0.16043083 0.2398816  0.36170417]\n",
      "-----------------------------------------------------------\n"
     ]
    }
   ],
   "source": [
    "import numpy.random as rd\n",
    "from sklearn import preprocessing as prework\n",
    "\n",
    "# 产生一个随机数矩阵\n",
    "print(\"-----------------初始矩阵状态-----------------------------\")\n",
    "data = rd.randint(-10,20,[3,4])\n",
    "print(data)\n",
    "print(r'Mean = ',data.mean(axis=0))\n",
    "print(r'Std Deviation = ',data.std(axis=0))\n",
    "print(\"-----------------------------------------------------------\")\n",
    "\n",
    "print(\"-----------------范围缩放后矩阵状态-----------------------------\")\n",
    "data_normalized = prework.normalize(data,norm='l1')\n",
    "print(data_normalized)\n",
    "print(r'Mean = ',data_normalized.mean(axis=0))\n",
    "print(r'Std Deviation = ',data_normalized.std(axis=0))\n",
    "print(\"-----------------------------------------------------------\")"
   ]
  },
  {
   "cell_type": "markdown",
   "metadata": {},
   "source": [
    "# 二值化(Binarization)\n",
    "二值化用于将数值特征向量转化为布尔类型特征向量"
   ]
  },
  {
   "cell_type": "code",
   "execution_count": 74,
   "metadata": {},
   "outputs": [
    {
     "name": "stdout",
     "output_type": "stream",
     "text": [
      "-----------------初始矩阵状态-----------------------------\n",
      "[[ -7  -6  18 -10]\n",
      " [ 16  14  -9  -1]\n",
      " [ 12  -8  12   0]]\n",
      "Mean =  [ 7.          0.          7.         -3.66666667]\n",
      "Std Deviation =  [10.03327796  9.93310962 11.5758369   4.49691252]\n",
      "-----------------------------------------------------------\n",
      "-----------------二值化后后矩阵状态-----------------------------\n",
      "[[0 0 1 0]\n",
      " [1 1 0 0]\n",
      " [1 0 1 0]]\n",
      "Mean =  [0.66666667 0.33333333 0.66666667 0.        ]\n",
      "Std Deviation =  [0.47140452 0.47140452 0.47140452 0.        ]\n",
      "-----------------------------------------------------------\n"
     ]
    }
   ],
   "source": [
    "import numpy.random as rd\n",
    "from sklearn import preprocessing as prework\n",
    "\n",
    "# 产生一个随机数矩阵\n",
    "print(\"-----------------初始矩阵状态-----------------------------\")\n",
    "data = rd.randint(-10,20,[3,4])\n",
    "print(data)\n",
    "print(r'Mean = ',data.mean(axis=0))\n",
    "print(r'Std Deviation = ',data.std(axis=0))\n",
    "print(\"-----------------------------------------------------------\")\n",
    "\n",
    "print(\"-----------------二值化后后矩阵状态-----------------------------\")\n",
    "data_binarizer = prework.Binarizer(threshold=1.4)\n",
    "data_bin = data_binarizer.transform(data)\n",
    "print(data_bin)\n",
    "print(r'Mean = ',data_bin.mean(axis=0))\n",
    "print(r'Std Deviation = ',data_bin.std(axis=0))\n",
    "print(\"-----------------------------------------------------------\")"
   ]
  },
  {
   "cell_type": "markdown",
   "metadata": {},
   "source": [
    "# 独热编码(One-Hot Encoding)\n",
    "**书上关于独热编码的解释**    \n",
    "通常，需要处理的数值都是稀疏地、散乱地分布在空间，然而，我们并不需要存储这些大数值，这时就需要使用的热编码。     \n",
    "可以把独热编码看作是一种收紧特征向量的工具。它把特征向量的每个特征都与这个特征的非重复总数相对应，通过$one-of-k$的形式对每个值进行编码。特征向量的每个特征值都按照这种方式编码，这样可以更加有效的表示空间。     \n",
    "例如，我们需要处理n维向量空间，当给一个特征向量的第n个特征进行编码时，编码器会遍历每个特征向量的第n个特征，然后进行非重复计数。如果非重复计数的值时K，那么就把这个特征转化为只有一个值是1其他值都是0的K维向量       \n",
    "\n",
    "\n",
    "**我查的资料**      \n",
    "独热编码即 One-Hot 编码，又称一位有效编码，其方法是使用N位状态寄存器来对N个状态进行编码，每个状态都由他独立的寄存器位，并且在任意时候，其中只有一位有效。例如：\n",
    "> 自然状态码为：000,001,010,011,100,101     \n",
    "独热编码为：000001,000010,000100,001000,010000,100000     \n",
    "\n",
    "可以这样理解，对于每一个特征，如果它有m个可能值，那么经过独热编码后，就变成了m个二元特征（如成绩这个特征有好，中，差变成one-hot就是100, 010, 001）。并且，这些特征互斥，每次只有一个激活。因此，数据会变成稀疏的。   \n",
    "\n",
    "**这样做的好处主要有：**\n",
    "- 解决了分类器不好处理属性数据的问题（比如一些字符串属性）\n",
    "- 在一定程度上也起到了扩充特征的作用\n",
    "\n",
    "**我的理解**    \n",
    "就是把对于每个特征向量，统计出其中出现过的所有数并去除重复，比如[1,2,1,3],统计出来就是[1,2,3],对应编码就为{1:100,2:010,3:001}"
   ]
  },
  {
   "cell_type": "code",
   "execution_count": 91,
   "metadata": {},
   "outputs": [
    {
     "name": "stdout",
     "output_type": "stream",
     "text": [
      "-----------------初始矩阵状态-----------------------------\n",
      "[[ 0  2  1 12]\n",
      " [ 1  3  5  3]\n",
      " [ 2  3  2 12]\n",
      " [ 1  2  4  3]]\n",
      "-----------------------------------------------------------\n",
      "Encoded vector =  [[0. 0. 1. 0. 1. 0. 0. 0. 1. 1. 0.]]\n"
     ]
    }
   ],
   "source": [
    "import numpy.random as rd\n",
    "import numpy as np\n",
    "from sklearn import preprocessing as prework\n",
    "\n",
    "print(\"-----------------初始矩阵状态-----------------------------\")\n",
    "data = np.array([[0,2,1,12],[1,3,5,3],[2,3,2,12],[1,2,4,3]])\n",
    "print(data)\n",
    "print(\"-----------------------------------------------------------\")\n",
    "\n",
    "encoder = prework.OneHotEncoder(categories='auto') # 不加categories这个参数的话会出现警告，原因暂时不明\n",
    "encoder.fit(data)\n",
    "encoded_vector = encoder.transform([[2,3,5,3]]).toarray()\n",
    "print('Encoded vector = ',encoded_vector)\n",
    "\n",
    "## -------------------------------------------------------------\n",
    "## 结果解释\n",
    "## 对data进行编码，比如对data的第一个特征向量（即第一列）[0,1,2,1],去重后得到[0,1,2],相应编码为(1)--{0:100,1:010,2:001}\n",
    "## 同理对剩下几个特征向量均以此方式编码，得到(2)--{2:10,3:01};(3)--{1:1000,2:0100,4:0010,5:0001};(4)--{3:10,12:01}\n",
    "## encoded_vector = encoder.transform([[2,3,5,3]]).toarray()这句传过来来4个数2,3,5,3分别用上述4个特征向量的编码来解码\n",
    "## 2在(1)中为001,3在(2)中为01,5在(3)中为0001,3在(4)中为10,拼起来就是最后结果[0. 0. 1. 0. 1. 0. 0. 0. 1. 1. 0.]\n",
    "## -------------------------------------------------------------"
   ]
  },
  {
   "cell_type": "markdown",
   "metadata": {},
   "source": [
    "# 标记编码方法\n",
    "在监督学习中，经常需要处理各种各样的标记。这些标记可能是数字，也可能是单词。如果标记是数字，那么算法可以直接使用它们。但是，许多情况下，标记都需要以人们可以理解的形式存在，因此，人们通常会用单词标记训练数据集。      \n",
    "标记编码就是要把单词标记转换成数值形式，让算法懂得如何操作标记。   "
   ]
  },
  {
   "cell_type": "code",
   "execution_count": 4,
   "metadata": {},
   "outputs": [
    {
     "name": "stdout",
     "output_type": "stream",
     "text": [
      "Class Mapping:\n",
      "audi-->0\n",
      "bmw-->1\n",
      "ford-->2\n",
      "toyota-->3\n"
     ]
    }
   ],
   "source": [
    "from sklearn import preprocessing as prework\n",
    "\n",
    "label_encoder = prework.LabelEncoder() # 定义一个编码器\n",
    "input_classes = ['audi','ford','audi','toyota','ford','bmw'] # 标签\n",
    "label_encoder.fit(input_classes) # 对标签进行编码\n",
    "print(\"Class Mapping:\") \n",
    "for i,item in enumerate(label_encoder.classes_): # 输出结果\n",
    "    print(\"{}-->{}\".format(item,i))\n",
    "    \n",
    "## ---------------------------------\n",
    "## 可以看出编码器对输入分类种类具有自动去重的功能\n",
    "## ---------------------------------"
   ]
  },
  {
   "cell_type": "code",
   "execution_count": 5,
   "metadata": {},
   "outputs": [
    {
     "name": "stdout",
     "output_type": "stream",
     "text": [
      "Labels =  ['toyota', 'toyota', 'audi', 'ford', 'audi']\n",
      "Encoded labels =  [3, 3, 0, 2, 0]\n"
     ]
    }
   ],
   "source": [
    "# 此时如果遇到一组标记，就可以非常轻松地转换它们了\n",
    "labels = ['toyota','toyota','audi','ford','audi']\n",
    "encoded_labels = label_encoder.transform(labels)\n",
    "print('Labels = ',labels)\n",
    "print('Encoded labels = ',list(encoded_labels))"
   ]
  },
  {
   "cell_type": "code",
   "execution_count": 14,
   "metadata": {},
   "outputs": [
    {
     "name": "stdout",
     "output_type": "stream",
     "text": [
      "Encoded labels =  [3, 3, 0, 2, 0]\n",
      "Decoded labels =  ['toyota', 'toyota', 'audi', 'ford', 'audi']\n"
     ]
    }
   ],
   "source": [
    "# 还可以通过数字反转回单词的功能检查结果的正确性\n",
    "encoded_labels = [3,3,0,2,0]\n",
    "decoded_labels = label_encoder.inverse_transform(encoded_labels)\n",
    "print(\"Encoded labels = \",encoded_labels)\n",
    "print(\"Decoded labels = \",list(decoded_labels))"
   ]
  },
  {
   "cell_type": "markdown",
   "metadata": {},
   "source": [
    "**下面我们来看一下数据集经过标准化后和不经过标准化拟合的效果，以波士顿房价为例**"
   ]
  },
  {
   "cell_type": "code",
   "execution_count": 17,
   "metadata": {},
   "outputs": [
    {
     "data": {
      "image/png": "[encoded data removed]",
      "text/plain": [
       "<Figure size 432x288 with 1 Axes>"
      ]
     },
     "metadata": {
      "needs_background": "light"
     },
     "output_type": "display_data"
    }
   ],
   "source": [
    "from sklearn import datasets\n",
    "from sklearn.linear_model import LinearRegression\n",
    "import matplotlib.pyplot as plt\n",
    "# 分割数据的模块，把数据集分为训练集和测试集\n",
    "from sklearn.model_selection import train_test_split\n",
    "\n",
    "loaded_data = datasets.load_boston()\n",
    "# 获取数据的输入与输出,sklearn很规则的吧数据分为了data（输入）与target（输出）两部分\n",
    "data_X = loaded_data.data\n",
    "data_y = loaded_data.target\n",
    "# 将数据集分割成 训练集 与 测试集，切顺序是打乱的。其中测试集占30%\n",
    "X_train,X_test,y_train,y_test = train_test_split(data_X,data_y,test_size=0.3)\n",
    "\n",
    "\n",
    "# 创建模型，可以直接用默认值去建立 model，默认值也不错，也可以自己改变参数使模型更好。\n",
    "model = LinearRegression()\n",
    "# 用 training data 去训练模型\n",
    "model.fit(X_train, y_train)\n",
    "\n",
    "plt.scatter(y_train,model.predict(X_train))\n",
    "plt.show()\n"
   ]
  },
  {
   "cell_type": "code",
   "execution_count": 19,
   "metadata": {},
   "outputs": [
    {
     "data": {
      "image/png": "[encoded data removed]",
      "text/plain": [
       "<Figure size 432x288 with 1 Axes>"
      ]
     },
     "metadata": {
      "needs_background": "light"
     },
     "output_type": "display_data"
    }
   ],
   "source": [
    "from sklearn import preprocessing as prework\n",
    "\n",
    "X_train = prework.scale(X_train)\n",
    "X_test = prework.scale(X_test)\n",
    "y_train = prework.scale(y_train)\n",
    "y_test = prework.scale(y_test)\n",
    "\n",
    "model.fit(X_train, y_train)\n",
    "\n",
    "plt.scatter(y_train,model.predict(X_train),c='r')\n",
    "plt.show()"
   ]
  },
  {
   "cell_type": "markdown",
   "metadata": {},
   "source": [
    "看起来毫无效果，真是开心...."
   ]
  },
  {
   "cell_type": "markdown",
   "metadata": {},
   "source": [
    "# 构造数据集(附加)\n",
    "利用sklearn库中的make_regression函数\n",
    "```\n",
    "sklearn.datasets.make_regression(n_samples=100, n_features=100, n_informative=10, n_targets=1, bias=0.0, effective_rank=None, tail_strength=0.5, noise=0.0, shuffle=True, coef=False, random_state=None)[source]\n",
    "```"
   ]
  },
  {
   "cell_type": "code",
   "execution_count": 12,
   "metadata": {},
   "outputs": [
    {
     "data": {
      "image/png": "[encoded data removed]",
      "text/plain": [
       "<Figure size 432x288 with 1 Axes>"
      ]
     },
     "metadata": {
      "needs_background": "light"
     },
     "output_type": "display_data"
    }
   ],
   "source": [
    "from sklearn import datasets\n",
    "from sklearn.linear_model import LinearRegression\n",
    "import matplotlib.pyplot as plt\n",
    "\n",
    "\n",
    "# 构造用于回归的数据make_regression\n",
    "# 参数的意思：100个例子，1种特征，1种输出，噪声的大小为5\n",
    "x,y = datasets.make_regression(n_samples=100,n_features=1,n_targets=1,noise=10)\n",
    "\n",
    "# 图像化我们刚刚创建的数据\n",
    "plt.plot(x,y,'o')\n",
    "plt.show()"
   ]
  }
 ],
 "metadata": {
  "kernelspec": {
   "display_name": "Python 3",
   "language": "python",
   "name": "python3"
  },
  "language_info": {
   "codemirror_mode": {
    "name": "ipython",
    "version": 3
   },
   "file_extension": ".py",
   "mimetype": "text/x-python",
   "name": "python",
   "nbconvert_exporter": "python",
   "pygments_lexer": "ipython3",
   "version": "3.6.6"
  }
 },
 "nbformat": 4,
 "nbformat_minor": 2
}
