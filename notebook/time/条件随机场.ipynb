{
 "cells": [
  {
   "cell_type": "markdown",
   "metadata": {},
   "source": [
    "**条件随机场**是一个概率模型，该模型用于分析结构化数据。\n",
    "条件随机场常用于标记和分段序列数据。\n",
    "条件随机产与隐马尔科夫模型相反，它是一个判定模型，而隐马尔科夫模型是一个生成模型。\n",
    "条件随机场用于分析序列、股票、语音、单词等。\n",
    "在这些模型中，给定一个带标签的观察序列，对这个序列定义一个条件随机场，这与隐马尔科夫模型相反，隐马尔科夫模型定义的是对标签和观察序列的联合分布"
   ]
  },
  {
   "cell_type": "markdown",
   "metadata": {},
   "source": [
    "隐马尔科夫模型假设当前的输出是与之前的输出独立统计的。这是隐马尔科夫模型所需要的，以确保该假设能够以一种健壮的方式工作。然而，这个假设并不是总是成立。时间序列张总的当前输出往往取决于之前的输出。条件随机场模型优于隐马尔科夫模型的一点在于它们是由自然条件决定的。也就是说，条件随机场模型并不假设输出观察值之间的独立性。     \n",
    "不仅如此，条件随机场还有一些优于隐马尔科夫模型的地方。条件随机场模型在诸如语言学、生物信息学、语音分析等领域的应用都由于隐马尔科夫模型。"
   ]
  },
  {
   "cell_type": "code",
   "execution_count": 11,
   "metadata": {},
   "outputs": [
    {
     "ename": "ImportError",
     "evalue": "DLL load failed: 找不到指定的模块。",
     "output_type": "error",
     "traceback": [
      "\u001b[1;31m---------------------------------------------------------------------------\u001b[0m",
      "\u001b[1;31mImportError\u001b[0m                               Traceback (most recent call last)",
      "\u001b[1;32m<ipython-input-11-bbd0e7c0819f>\u001b[0m in \u001b[0;36m<module>\u001b[1;34m\u001b[0m\n\u001b[0;32m      6\u001b[0m \u001b[1;32mimport\u001b[0m \u001b[0mmatplotlib\u001b[0m\u001b[1;33m.\u001b[0m\u001b[0mpyplot\u001b[0m \u001b[1;32mas\u001b[0m \u001b[0mplt\u001b[0m\u001b[1;33m\u001b[0m\u001b[0m\n\u001b[0;32m      7\u001b[0m \u001b[1;32mfrom\u001b[0m \u001b[0mpystruct\u001b[0m\u001b[1;33m.\u001b[0m\u001b[0mdatasets\u001b[0m \u001b[1;32mimport\u001b[0m \u001b[0mload_letters\u001b[0m\u001b[1;33m\u001b[0m\u001b[0m\n\u001b[1;32m----> 8\u001b[1;33m \u001b[1;32mfrom\u001b[0m \u001b[0mpystruct\u001b[0m\u001b[1;33m.\u001b[0m\u001b[0mmodels\u001b[0m \u001b[1;32mimport\u001b[0m \u001b[0mChainCRF\u001b[0m\u001b[1;33m\u001b[0m\u001b[0m\n\u001b[0m\u001b[0;32m      9\u001b[0m \u001b[1;31m# from pystruct.learners import FrankWolfeSSVM\u001b[0m\u001b[1;33m\u001b[0m\u001b[1;33m\u001b[0m\u001b[0m\n",
      "\u001b[1;32md:\\python36\\lib\\site-packages\\pystruct\\models\\__init__.py\u001b[0m in \u001b[0;36m<module>\u001b[1;34m\u001b[0m\n\u001b[0;32m      1\u001b[0m \u001b[1;32mfrom\u001b[0m \u001b[1;33m.\u001b[0m\u001b[0mbase\u001b[0m \u001b[1;32mimport\u001b[0m \u001b[0mStructuredModel\u001b[0m\u001b[1;33m\u001b[0m\u001b[0m\n\u001b[1;32m----> 2\u001b[1;33m \u001b[1;32mfrom\u001b[0m \u001b[1;33m.\u001b[0m\u001b[0mcrf\u001b[0m \u001b[1;32mimport\u001b[0m \u001b[0mCRF\u001b[0m\u001b[1;33m\u001b[0m\u001b[0m\n\u001b[0m\u001b[0;32m      3\u001b[0m \u001b[1;32mfrom\u001b[0m \u001b[1;33m.\u001b[0m\u001b[0mgrid_crf\u001b[0m \u001b[1;32mimport\u001b[0m \u001b[0mGridCRF\u001b[0m\u001b[1;33m,\u001b[0m \u001b[0mDirectionalGridCRF\u001b[0m\u001b[1;33m\u001b[0m\u001b[0m\n\u001b[0;32m      4\u001b[0m \u001b[1;32mfrom\u001b[0m \u001b[1;33m.\u001b[0m\u001b[0mgraph_crf\u001b[0m \u001b[1;32mimport\u001b[0m \u001b[0mGraphCRF\u001b[0m\u001b[1;33m\u001b[0m\u001b[0m\n\u001b[0;32m      5\u001b[0m \u001b[1;32mfrom\u001b[0m \u001b[1;33m.\u001b[0m\u001b[0mchain_crf\u001b[0m \u001b[1;32mimport\u001b[0m \u001b[0mChainCRF\u001b[0m\u001b[1;33m\u001b[0m\u001b[0m\n",
      "\u001b[1;32md:\\python36\\lib\\site-packages\\pystruct\\models\\crf.py\u001b[0m in \u001b[0;36m<module>\u001b[1;34m\u001b[0m\n\u001b[0;32m      2\u001b[0m \u001b[1;33m\u001b[0m\u001b[0m\n\u001b[0;32m      3\u001b[0m \u001b[1;32mfrom\u001b[0m \u001b[1;33m.\u001b[0m\u001b[0mbase\u001b[0m \u001b[1;32mimport\u001b[0m \u001b[0mStructuredModel\u001b[0m\u001b[1;33m\u001b[0m\u001b[0m\n\u001b[1;32m----> 4\u001b[1;33m \u001b[1;32mfrom\u001b[0m \u001b[1;33m.\u001b[0m\u001b[1;33m.\u001b[0m\u001b[0minference\u001b[0m \u001b[1;32mimport\u001b[0m \u001b[0minference_dispatch\u001b[0m\u001b[1;33m,\u001b[0m \u001b[0mget_installed\u001b[0m\u001b[1;33m\u001b[0m\u001b[0m\n\u001b[0m\u001b[0;32m      5\u001b[0m \u001b[1;32mfrom\u001b[0m \u001b[1;33m.\u001b[0m\u001b[0mutils\u001b[0m \u001b[1;32mimport\u001b[0m \u001b[0mloss_augment_unaries\u001b[0m\u001b[1;33m\u001b[0m\u001b[0m\n\u001b[0;32m      6\u001b[0m \u001b[1;33m\u001b[0m\u001b[0m\n",
      "\u001b[1;32md:\\python36\\lib\\site-packages\\pystruct\\inference\\__init__.py\u001b[0m in \u001b[0;36m<module>\u001b[1;34m\u001b[0m\n\u001b[1;32m----> 1\u001b[1;33m from .inference_methods import (inference_qpbo, inference_lp,\n\u001b[0m\u001b[0;32m      2\u001b[0m                                 \u001b[0minference_ad3\u001b[0m\u001b[1;33m,\u001b[0m \u001b[0minference_ogm\u001b[0m\u001b[1;33m,\u001b[0m\u001b[1;33m\u001b[0m\u001b[0m\n\u001b[0;32m      3\u001b[0m                                 \u001b[0minference_dispatch\u001b[0m\u001b[1;33m,\u001b[0m \u001b[0mget_installed\u001b[0m\u001b[1;33m,\u001b[0m\u001b[1;33m\u001b[0m\u001b[0m\n\u001b[0;32m      4\u001b[0m                                 inference_ad3plus, InferenceException)\n\u001b[0;32m      5\u001b[0m \u001b[1;32mfrom\u001b[0m \u001b[1;33m.\u001b[0m\u001b[0mcommon\u001b[0m \u001b[1;32mimport\u001b[0m \u001b[0mcompute_energy\u001b[0m\u001b[1;33m\u001b[0m\u001b[0m\n",
      "\u001b[1;32md:\\python36\\lib\\site-packages\\pystruct\\inference\\inference_methods.py\u001b[0m in \u001b[0;36m<module>\u001b[1;34m\u001b[0m\n\u001b[0;32m      1\u001b[0m \u001b[1;32mimport\u001b[0m \u001b[0mnumpy\u001b[0m \u001b[1;32mas\u001b[0m \u001b[0mnp\u001b[0m\u001b[1;33m\u001b[0m\u001b[0m\n\u001b[0;32m      2\u001b[0m \u001b[1;33m\u001b[0m\u001b[0m\n\u001b[1;32m----> 3\u001b[1;33m \u001b[1;32mfrom\u001b[0m \u001b[1;33m.\u001b[0m\u001b[0mlinear_programming\u001b[0m \u001b[1;32mimport\u001b[0m \u001b[0mlp_general_graph\u001b[0m\u001b[1;33m\u001b[0m\u001b[0m\n\u001b[0m\u001b[0;32m      4\u001b[0m \u001b[1;32mfrom\u001b[0m \u001b[1;33m.\u001b[0m\u001b[0mmaxprod\u001b[0m \u001b[1;32mimport\u001b[0m \u001b[0minference_max_product\u001b[0m\u001b[1;33m\u001b[0m\u001b[0m\n\u001b[0;32m      5\u001b[0m \u001b[1;32mfrom\u001b[0m \u001b[1;33m.\u001b[0m\u001b[0mcommon\u001b[0m \u001b[1;32mimport\u001b[0m \u001b[0m_validate_params\u001b[0m\u001b[1;33m\u001b[0m\u001b[0m\n",
      "\u001b[1;32md:\\python36\\lib\\site-packages\\pystruct\\inference\\linear_programming.py\u001b[0m in \u001b[0;36m<module>\u001b[1;34m\u001b[0m\n\u001b[0;32m      1\u001b[0m \u001b[1;32mimport\u001b[0m \u001b[0mnumpy\u001b[0m \u001b[1;32mas\u001b[0m \u001b[0mnp\u001b[0m\u001b[1;33m\u001b[0m\u001b[0m\n\u001b[1;32m----> 2\u001b[1;33m \u001b[1;32mimport\u001b[0m \u001b[0mcvxopt\u001b[0m\u001b[1;33m\u001b[0m\u001b[0m\n\u001b[0m\u001b[0;32m      3\u001b[0m \u001b[1;32mimport\u001b[0m \u001b[0mcvxopt\u001b[0m\u001b[1;33m.\u001b[0m\u001b[0msolvers\u001b[0m\u001b[1;33m\u001b[0m\u001b[0m\n\u001b[0;32m      4\u001b[0m \u001b[1;33m\u001b[0m\u001b[0m\n\u001b[0;32m      5\u001b[0m \u001b[1;33m\u001b[0m\u001b[0m\n",
      "\u001b[1;32md:\\python36\\lib\\site-packages\\cvxopt\\__init__.py\u001b[0m in \u001b[0;36m<module>\u001b[1;34m\u001b[0m\n\u001b[0;32m     48\u001b[0m along with this program.  If not, see <http://www.gnu.org/licenses/>.\"\"\"\n\u001b[0;32m     49\u001b[0m \u001b[1;33m\u001b[0m\u001b[0m\n\u001b[1;32m---> 50\u001b[1;33m \u001b[1;32mimport\u001b[0m \u001b[0mcvxopt\u001b[0m\u001b[1;33m.\u001b[0m\u001b[0mbase\u001b[0m\u001b[1;33m\u001b[0m\u001b[0m\n\u001b[0m\u001b[0;32m     51\u001b[0m \u001b[1;33m\u001b[0m\u001b[0m\n\u001b[0;32m     52\u001b[0m \u001b[1;32mdef\u001b[0m \u001b[0mcopyright\u001b[0m\u001b[1;33m(\u001b[0m\u001b[1;33m)\u001b[0m\u001b[1;33m:\u001b[0m\u001b[1;33m\u001b[0m\u001b[0m\n",
      "\u001b[1;31mImportError\u001b[0m: DLL load failed: 找不到指定的模块。"
     ]
    }
   ],
   "source": [
    "import os\n",
    "import argparse \n",
    "import cPickle as pickle \n",
    "\n",
    "import numpy as np\n",
    "import matplotlib.pyplot as plt\n",
    "from pystruct.datasets import load_letters\n",
    "from pystruct.models import ChainCRF\n",
    "from pystruct.learners import FrankWolfeSSVM\n",
    "\n",
    "def build_arg_parser():\n",
    "    parser = argparse.ArgumentParser(description='Trains the CRF classifier')\n",
    "    parser.add_argument(\"--c-value\", dest=\"c_value\", required=False, type=float,\n",
    "            default=1.0, help=\"The C value that will be used for training\")\n",
    "    return parser\n",
    "\n",
    "class CRFTrainer(object):\n",
    "    def __init__(self, c_value, classifier_name='ChainCRF'):\n",
    "        self.c_value = c_value\n",
    "        self.classifier_name = classifier_name\n",
    "\n",
    "        if self.classifier_name == 'ChainCRF':\n",
    "            model = ChainCRF()\n",
    "            self.clf = FrankWolfeSSVM(model=model, C=self.c_value, max_iter=50) \n",
    "        else:\n",
    "            raise TypeError('Invalid classifier type')\n",
    "\n",
    "    def load_data(self):\n",
    "        letters = load_letters()\n",
    "        X, y, folds = letters['data'], letters['labels'], letters['folds']\n",
    "        X, y = np.array(X), np.array(y)\n",
    "        return X, y, folds\n",
    "\n",
    "    # X is a numpy array of samples where each sample\n",
    "    # has the shape (n_letters, n_features) \n",
    "    def train(self, X_train, y_train):\n",
    "        self.clf.fit(X_train, y_train)\n",
    "\n",
    "    def evaluate(self, X_test, y_test):\n",
    "        return self.clf.score(X_test, y_test)\n",
    "\n",
    "    # Run the classifier on input data\n",
    "    def classify(self, input_data):\n",
    "        return self.clf.predict(input_data)[0]\n",
    "\n",
    "def decoder(arr):\n",
    "    alphabets = 'abcdefghijklmnopqrstuvwxyz'\n",
    "    output = ''\n",
    "    for i in arr:\n",
    "        output += alphabets[i] \n",
    "\n",
    "    return output\n",
    "\n",
    "if __name__=='__main__':\n",
    "    args = build_arg_parser().parse_args()\n",
    "    c_value = args.c_value\n",
    "\n",
    "    crf = CRFTrainer(c_value)\n",
    "    X, y, folds = crf.load_data()\n",
    "    X_train, X_test = X[folds == 1], X[folds != 1]\n",
    "    y_train, y_test = y[folds == 1], y[folds != 1]\n",
    "\n",
    "    print \"\\nTraining the CRF model...\"\n",
    "    crf.train(X_train, y_train)\n",
    "\n",
    "    score = crf.evaluate(X_test, y_test)\n",
    "    print \"\\nAccuracy score =\", str(round(score*100, 2)) + '%'\n",
    "\n",
    "    print \"\\nTrue label =\", decoder(y_test[0])\n",
    "    predicted_output = crf.classify([X_test[0]])\n",
    "    print \"Predicted output =\", decoder(predicted_output)\n",
    "\n"
   ]
  }
 ],
 "metadata": {
  "kernelspec": {
   "display_name": "Python 3",
   "language": "python",
   "name": "python3"
  },
  "language_info": {
   "codemirror_mode": {
    "name": "ipython",
    "version": 3
   },
   "file_extension": ".py",
   "mimetype": "text/x-python",
   "name": "python",
   "nbconvert_exporter": "python",
   "pygments_lexer": "ipython3",
   "version": "3.6.6"
  }
 },
 "nbformat": 4,
 "nbformat_minor": 2
}
