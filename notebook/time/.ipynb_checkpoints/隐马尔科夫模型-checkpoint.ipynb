{
 "cells": [
  {
   "cell_type": "markdown",
   "metadata": {},
   "source": [
    "## 隐马尔科夫模型（HMMs）\n",
    "任何产生输出序列的数据源均可以产生模式。HMMs是一个生成模型，这也就意味着一旦掌握了其底层结构，就可以产生数据。       \n",
    "HMMs并不能对基础形式的类进行区分，这与哪些可以做类区分的判定模型形成鲜明的对比，但是这些可以做类区分的判定模型却不能生成数据"
   ]
  },
  {
   "cell_type": "code",
   "execution_count": 2,
   "metadata": {},
   "outputs": [
    {
     "name": "stdout",
     "output_type": "stream",
     "text": [
      "\n",
      "Means and variances of hidden states:\n",
      "\n",
      "Hidden state 1\n",
      "Mean = 8.099\n",
      "Variance = 0.678\n",
      "\n",
      "Hidden state 2\n",
      "Mean = 0.6\n",
      "Variance = 0.254\n",
      "\n",
      "Hidden state 3\n",
      "Mean = 5.092\n",
      "Variance = 0.677\n",
      "\n",
      "Hidden state 4\n",
      "Mean = 2.601\n",
      "Variance = 0.257\n"
     ]
    },
    {
     "data": {
      "image/png": "[encoded data removed]",
      "text/plain": [
       "<Figure size 432x288 with 1 Axes>"
      ]
     },
     "metadata": {
      "needs_background": "light"
     },
     "output_type": "display_data"
    }
   ],
   "source": [
    "import datetime\n",
    "import numpy as np\n",
    "import matplotlib.pyplot as plt\n",
    "from hmmlearn.hmm import GaussianHMM\n",
    "\n",
    "input_file = 'data_hmm.txt'\n",
    "data = np.loadtxt(input_file, delimiter=',')\n",
    "# 将数据按照列的方向堆叠起来用于分析，我们并不需要在技术上做堆叠，因为只有一个列\n",
    "# 如果有多于一个列要进行分析，可以用以下代码实现\n",
    "X = np.column_stack([data[:,2]])\n",
    "# 用4个成分创建并训练HMM。成分的个数是一个需要进行选择的超参数\n",
    "# 这里选择4个成分就意味着4个潜在状态的生成数据\n",
    "num_components = 4 # 此数值增大图像会更平滑\n",
    "model = GaussianHMM(n_components=num_components, covariance_type=\"diag\", n_iter=1000)\n",
    "model.fit(X)\n",
    "# 运行预测器以获得隐藏状态\n",
    "hidden_states = model.predict(X)\n",
    "# 计算这些写隐藏状态的值和方法\n",
    "print(\"\\nMeans and variances of hidden states:\")\n",
    "for i in range(model.n_components):\n",
    "    print(\"\\nHidden state\", i+1)\n",
    "    print(\"Mean =\", round(model.means_[i][0], 3))\n",
    "    print(\"Variance =\", round(np.diag(model.covars_[i])[0], 3))\n",
    "# 用模型生成数据\n",
    "num_samples = 1000\n",
    "samples, _ = model.sample(num_samples) \n",
    "plt.plot(np.arange(num_samples), samples[:,0], c='black')\n",
    "plt.title('Number of components = ' + str(num_components))\n",
    "plt.show()"
   ]
  },
  {
   "cell_type": "markdown",
   "metadata": {},
   "source": [
    "## 用隐马尔科夫模型分析股票市场数据"
   ]
  },
  {
   "cell_type": "code",
   "execution_count": 4,
   "metadata": {},
   "outputs": [
    {
     "ename": "ModuleNotFoundError",
     "evalue": "No module named 'matplotlib.finance'",
     "output_type": "error",
     "traceback": [
      "\u001b[1;31m---------------------------------------------------------------------------\u001b[0m",
      "\u001b[1;31mModuleNotFoundError\u001b[0m                       Traceback (most recent call last)",
      "\u001b[1;32m<ipython-input-4-5282a81261b0>\u001b[0m in \u001b[0;36m<module>\u001b[1;34m\u001b[0m\n\u001b[0;32m      7\u001b[0m \u001b[1;32mtry\u001b[0m\u001b[1;33m:\u001b[0m\u001b[1;33m\u001b[0m\u001b[0m\n\u001b[1;32m----> 8\u001b[1;33m     \u001b[1;32mfrom\u001b[0m \u001b[0mmatplotlib\u001b[0m\u001b[1;33m.\u001b[0m\u001b[0mfinance\u001b[0m \u001b[1;32mimport\u001b[0m \u001b[0mquotes_historical_yahoo_ochl\u001b[0m\u001b[1;33m\u001b[0m\u001b[0m\n\u001b[0m\u001b[0;32m      9\u001b[0m \u001b[1;32mexcept\u001b[0m \u001b[0mImportError\u001b[0m\u001b[1;33m:\u001b[0m\u001b[1;33m\u001b[0m\u001b[0m\n",
      "\u001b[1;31mModuleNotFoundError\u001b[0m: No module named 'matplotlib.finance'",
      "\nDuring handling of the above exception, another exception occurred:\n",
      "\u001b[1;31mModuleNotFoundError\u001b[0m                       Traceback (most recent call last)",
      "\u001b[1;32m<ipython-input-4-5282a81261b0>\u001b[0m in \u001b[0;36m<module>\u001b[1;34m\u001b[0m\n\u001b[0;32m      8\u001b[0m     \u001b[1;32mfrom\u001b[0m \u001b[0mmatplotlib\u001b[0m\u001b[1;33m.\u001b[0m\u001b[0mfinance\u001b[0m \u001b[1;32mimport\u001b[0m \u001b[0mquotes_historical_yahoo_ochl\u001b[0m\u001b[1;33m\u001b[0m\u001b[0m\n\u001b[0;32m      9\u001b[0m \u001b[1;32mexcept\u001b[0m \u001b[0mImportError\u001b[0m\u001b[1;33m:\u001b[0m\u001b[1;33m\u001b[0m\u001b[0m\n\u001b[1;32m---> 10\u001b[1;33m     \u001b[1;32mfrom\u001b[0m \u001b[0mmatplotlib\u001b[0m\u001b[1;33m.\u001b[0m\u001b[0mfinance\u001b[0m \u001b[1;32mimport\u001b[0m \u001b[0mquotes_historical_yahoo\u001b[0m \u001b[1;32mas\u001b[0m \u001b[0mquotes_historical_yahoo_ochl\u001b[0m\u001b[1;33m\u001b[0m\u001b[0m\n\u001b[0m",
      "\u001b[1;31mModuleNotFoundError\u001b[0m: No module named 'matplotlib.finance'"
     ]
    }
   ],
   "source": [
    "import datetime\n",
    "\n",
    "import numpy as np\n",
    "import matplotlib.pyplot as plt\n",
    "from hmmlearn.hmm import GaussianHMM\n",
    "\n",
    "try:\n",
    "    from matplotlib.finance import quotes_historical_yahoo_ochl\n",
    "except ImportError:\n",
    "    from matplotlib.finance import quotes_historical_yahoo as quotes_historical_yahoo_ochl\n",
    "    \n",
    "quotes = quotes_historical_yahoo_ochl(\"INTC\", \n",
    "        datetime.date(1994, 4, 5), datetime.date(2015, 7, 3))\n",
    "\n",
    "# Extract the required values\n",
    "dates = np.array([quote[0] for quote in quotes], dtype=np.int)\n",
    "closing_values = np.array([quote[2] for quote in quotes])\n",
    "volume_of_shares = np.array([quote[5] for quote in quotes])[1:]\n",
    "\n",
    "# Take diff of closing values and computing rate of change\n",
    "diff_percentage = 100.0 * np.diff(closing_values) / closing_values[:-1]\n",
    "dates = dates[1:]\n",
    "\n",
    "# Stack the percentage diff and volume values column-wise for training\n",
    "X = np.column_stack([diff_percentage, volume_of_shares])\n",
    "\n",
    "# Create and train Gaussian HMM \n",
    "print \"\\nTraining HMM....\"\n",
    "model = GaussianHMM(n_components=5, covariance_type=\"diag\", n_iter=1000)\n",
    "model.fit(X)\n",
    "\n",
    "# Generate data using model\n",
    "num_samples = 500 \n",
    "samples, _ = model.sample(num_samples) \n",
    "plt.plot(np.arange(num_samples), samples[:,0], c='black')\n",
    "\n",
    "plt.show()"
   ]
  }
 ],
 "metadata": {
  "kernelspec": {
   "display_name": "Python 3",
   "language": "python",
   "name": "python3"
  },
  "language_info": {
   "codemirror_mode": {
    "name": "ipython",
    "version": 3
   },
   "file_extension": ".py",
   "mimetype": "text/x-python",
   "name": "python",
   "nbconvert_exporter": "python",
   "pygments_lexer": "ipython3",
   "version": "3.6.6"
  }
 },
 "nbformat": 4,
 "nbformat_minor": 2
}
