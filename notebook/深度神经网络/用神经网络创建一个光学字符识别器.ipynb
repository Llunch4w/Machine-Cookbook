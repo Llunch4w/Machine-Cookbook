{
 "cells": [
  {
   "cell_type": "code",
   "execution_count": 4,
   "metadata": {},
   "outputs": [
    {
     "name": "stdout",
     "output_type": "stream",
     "text": [
      "Epoch: 500; Error: 0.16587884059047234;\n",
      "Epoch: 1000; Error: 0.04422656575701798;\n",
      "Epoch: 1500; Error: 0.02610979303614146;\n",
      "Epoch: 2000; Error: 0.01987000580305627;\n",
      "Epoch: 2500; Error: 0.016840897458780674;\n",
      "The goal of learning is reached\n",
      "\n",
      "Testing on unknown data:\n",
      "\n",
      "Original: o\n",
      "Predicted: o\n",
      "\n",
      "Original: m\n",
      "Predicted: m\n"
     ]
    }
   ],
   "source": [
    "import numpy as np\n",
    "import neurolab as nl\n",
    "\n",
    "# 输入文件\n",
    "input_file = 'letter.data'\n",
    "# 在用神经网络处理大量数据时，需要花费很多的时间来做荀兰\n",
    "# 为了展示如何创建这个系统，这里只适用20个数据点\n",
    "num_datapoints = 20\n",
    "# 观察数据，可以看到在前20行有7个不同的字符，其定义如下：\n",
    "# 不同的字符\n",
    "orig_labels = 'omandig'\n",
    "# 不同字符的数量\n",
    "num_output = len(orig_labels)\n",
    "# 定义训练和测试参数\n",
    "num_train = int(0.9 * num_datapoints)\n",
    "num_test = num_datapoints - num_train\n",
    "# 定义数据集提取参数\n",
    "start_index = 6\n",
    "end_index = -1\n",
    "# 生成数据集\n",
    "data = []\n",
    "labels = []\n",
    "with open(input_file, 'r') as f:\n",
    "    for line in f.readlines():\n",
    "        # 按Tab键分割\n",
    "        list_vals = line.split('\\t')\n",
    "\n",
    "        # 如果字符不再标签列表中，跳过\n",
    "        if list_vals[1] not in orig_labels:\n",
    "            continue\n",
    "\n",
    "        # 提取标签，并将其添加到主列表的后面\n",
    "        label = np.zeros((num_output, 1))\n",
    "        label[orig_labels.index(list_vals[1])] = 1\n",
    "        labels.append(label)\n",
    "\n",
    "        # 提取字符，并将其添加到主列表的后面\n",
    "        cur_char = np.array([float(x) for x in list_vals[start_index:end_index]])\n",
    "        data.append(cur_char)\n",
    "\n",
    "        # 当有足够多数据时就跳出循环\n",
    "        if len(data) >= num_datapoints:\n",
    "            break\n",
    "            \n",
    "# 将数据转换成numpy数组\n",
    "data = np.asfarray(data)\n",
    "labels = np.array(labels).reshape(num_datapoints, num_output)\n",
    "# 提取数据维度信息\n",
    "num_dims = len(data[0])\n",
    "# 用10000次迭代来训练神经网络\n",
    "net = nl.net.newff([[0, 1] for _ in range(len(data[0]))], [128, 16, num_output])\n",
    "net.trainf = nl.train.train_gd\n",
    "error = net.train(data[:num_train,:], labels[:num_train,:], epochs=10000, \n",
    "        show=500, goal=0.01)\n",
    "# 为测试数据预测输出结构\n",
    "predicted_output = net.sim(data[num_train:, :])\n",
    "print(\"\\nTesting on unknown data:\")\n",
    "for i in range(num_test):\n",
    "    print(\"\\nOriginal:\", orig_labels[np.argmax(labels[i])])\n",
    "    print(\"Predicted:\", orig_labels[np.argmax(predicted_output[i])])"
   ]
  }
 ],
 "metadata": {
  "kernelspec": {
   "display_name": "Python 3",
   "language": "python",
   "name": "python3"
  },
  "language_info": {
   "codemirror_mode": {
    "name": "ipython",
    "version": 3
   },
   "file_extension": ".py",
   "mimetype": "text/x-python",
   "name": "python",
   "nbconvert_exporter": "python",
   "pygments_lexer": "ipython3",
   "version": "3.6.6"
  }
 },
 "nbformat": 4,
 "nbformat_minor": 2
}
