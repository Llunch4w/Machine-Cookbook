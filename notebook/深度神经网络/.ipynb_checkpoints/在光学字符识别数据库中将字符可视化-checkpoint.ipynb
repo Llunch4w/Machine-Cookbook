{
 "cells": [
  {
   "cell_type": "markdown",
   "metadata": {},
   "source": [
    "利用神经网络做光学字符的识别。    \n",
    "光学字符识别是指识别图像中的手写字符过程    \n",
    "将用到[网址](http://ai.standford.edu/~btaskar/ocr)中提供的数据集"
   ]
  },
  {
   "cell_type": "code",
   "execution_count": null,
   "metadata": {},
   "outputs": [],
   "source": [
    "import os\n",
    "import sys\n",
    "\n",
    "import cv2\n",
    "import numpy as np\n",
    "\n",
    "# 加载数据\n",
    "input_file = 'letter.data' \n",
    "# 定义可视化参数\n",
    "scaling_factor = 10\n",
    "start_index = 6\n",
    "end_index = -1\n",
    "h, w = 16, 8\n",
    "# 循环迭代直至用户按下Esc键\n",
    "with open(input_file, 'r') as f:\n",
    "    for line in f.readlines():\n",
    "        data = np.array([255*float(x) for x in line.split('\\t')[start_index:end_index]])\n",
    "        img = np.reshape(data, (h,w))\n",
    "        img_scaled = cv2.resize(img, None, fx=scaling_factor, fy=scaling_factor)\n",
    "        cv2.imshow('Image', img_scaled)\n",
    "        c = cv2.waitKey()\n",
    "        if c == 27:\n",
    "            break"
   ]
  }
 ],
 "metadata": {
  "kernelspec": {
   "display_name": "Python 3",
   "language": "python",
   "name": "python3"
  },
  "language_info": {
   "codemirror_mode": {
    "name": "ipython",
    "version": 3
   },
   "file_extension": ".py",
   "mimetype": "text/x-python",
   "name": "python",
   "nbconvert_exporter": "python",
   "pygments_lexer": "ipython3",
   "version": "3.6.6"
  }
 },
 "nbformat": 4,
 "nbformat_minor": 2
}
