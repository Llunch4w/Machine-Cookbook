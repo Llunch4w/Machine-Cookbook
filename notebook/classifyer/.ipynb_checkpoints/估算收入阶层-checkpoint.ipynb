{
 "cells": [
  {
   "cell_type": "code",
   "execution_count": 51,
   "metadata": {},
   "outputs": [
    {
     "name": "stdout",
     "output_type": "stream",
     "text": [
      "unsure: 2399\n",
      "less_than_50k: 22654\n",
      "more_than_50k: 7509\n"
     ]
    },
    {
     "ename": "AttributeError",
     "evalue": "'list' object has no attribute 'shape'",
     "output_type": "error",
     "traceback": [
      "\u001b[1;31m---------------------------------------------------------------------------\u001b[0m",
      "\u001b[1;31mAttributeError\u001b[0m                            Traceback (most recent call last)",
      "\u001b[1;32m<ipython-input-51-85ff582e3dd7>\u001b[0m in \u001b[0;36m<module>\u001b[1;34m\u001b[0m\n\u001b[0;32m     25\u001b[0m \u001b[0mprint\u001b[0m\u001b[1;33m(\u001b[0m\u001b[1;34m'less_than_50k:'\u001b[0m\u001b[1;33m,\u001b[0m\u001b[0mless_than_50k\u001b[0m\u001b[1;33m)\u001b[0m\u001b[1;33m\u001b[0m\u001b[0m\n\u001b[0;32m     26\u001b[0m \u001b[0mprint\u001b[0m\u001b[1;33m(\u001b[0m\u001b[1;34m'more_than_50k:'\u001b[0m\u001b[1;33m,\u001b[0m\u001b[0mmore_than_50k\u001b[0m\u001b[1;33m)\u001b[0m\u001b[1;33m\u001b[0m\u001b[0m\n\u001b[1;32m---> 27\u001b[1;33m \u001b[0mprint\u001b[0m\u001b[1;33m(\u001b[0m\u001b[0mx_data\u001b[0m\u001b[1;33m.\u001b[0m\u001b[0mshape\u001b[0m\u001b[1;33m)\u001b[0m\u001b[1;33m\u001b[0m\u001b[0m\n\u001b[0m\u001b[0;32m     28\u001b[0m \u001b[1;33m\u001b[0m\u001b[0m\n",
      "\u001b[1;31mAttributeError\u001b[0m: 'list' object has no attribute 'shape'"
     ]
    }
   ],
   "source": [
    "from sklearn import preprocessing\n",
    "from sklearn.naive_bayes import GaussianNB\n",
    "\n",
    "filename = 'adult.data.txt'\n",
    "x_data = []\n",
    "less_than_50k = 0\n",
    "more_than_50k = 0\n",
    "unsure = 0\n",
    "\n",
    "with open(filename,'r') as f:\n",
    "    for line in f:\n",
    "        if '?' in line:\n",
    "            unsure += 1\n",
    "            continue\n",
    "        data = line.strip().split(', ')\n",
    "        x_data.append(data)\n",
    "#         print(data[-1])\n",
    "        if data[-1] == '<=50K':\n",
    "            less_than_50k += 1\n",
    "        else:\n",
    "            more_than_50k += 1\n",
    "\n",
    "            \n",
    "print('unsure:',unsure)\n",
    "print('less_than_50k:',less_than_50k)\n",
    "print('more_than_50k:',more_than_50k)\n",
    "        "
   ]
  },
  {
   "cell_type": "markdown",
   "metadata": {},
   "source": [
    "如果大部分数据点都属于一个类型，那么分类器就会倾向于这个类型。     \n",
    "因此最好使用每个类型数据点相等的数据进行训练。     \n",
    "对上述程序进行部分改动"
   ]
  },
  {
   "cell_type": "code",
   "execution_count": 54,
   "metadata": {},
   "outputs": [
    {
     "name": "stdout",
     "output_type": "stream",
     "text": [
      "unsure: 2399\n",
      "less_than_50k: 10000\n",
      "more_than_50k: 7508\n",
      "['State-gov' 'Self-emp-not-inc' 'Private' ... 'Private' 'Private'\n",
      " 'Self-emp-inc']\n"
     ]
    }
   ],
   "source": [
    "from sklearn import preprocessing\n",
    "from sklearn.naive_bayes import GaussianNB\n",
    "import numpy as np\n",
    "\n",
    "filename = 'adult.data.txt'\n",
    "x_data = []\n",
    "less_than_50k = 0\n",
    "more_than_50k = 0\n",
    "unsure = 0\n",
    "\n",
    "with open(filename,'r') as f:\n",
    "    for line in f:\n",
    "        if '?' in line:\n",
    "            unsure += 1\n",
    "            continue\n",
    "        data = line.strip().split(', ')\n",
    "        if data[-1] == '<=50K' and less_than_50k < 10000:\n",
    "            x_data.append(data)\n",
    "            less_than_50k += 1\n",
    "        elif data[-1] == '>50K' and more_than_50k < 10000: \n",
    "            x_data.append(data)\n",
    "            more_than_50k += 1\n",
    "        if less_than_50k >= 10000 and more_than_50k >= 10000:\n",
    "            break\n",
    "\n",
    "            \n",
    "print('unsure:',unsure)\n",
    "print('less_than_50k:',less_than_50k)\n",
    "print('more_than_50k:',more_than_50k)\n",
    "\n",
    "x_data = np.array(x_data)\n"
   ]
  },
  {
   "cell_type": "markdown",
   "metadata": {},
   "source": [
    "对于这个数据集，有14个影响收入的属性，属性既包括字符串也包括数字。     \n",
    "数值数据是有价值的，这种情况下，不能使用编码器进行编码，需要设计一套既可以处理数值数据，也可以处理非数值数据的系统。     \n",
    "我们需要把字符串属性转换成数值数据，同时需要保留原来的数值数据"
   ]
  },
  {
   "cell_type": "code",
   "execution_count": 55,
   "metadata": {},
   "outputs": [
    {
     "name": "stdout",
     "output_type": "stream",
     "text": [
      "[0 0 0 ... 1 1 1]\n"
     ]
    }
   ],
   "source": [
    "label_encoder = []\n",
    "x_encoded = np.empty(x_data.shape)\n",
    "for i,item in enumerate(x_data[0]):\n",
    "    if item.isdigit():\n",
    "        x_encoded[:,i] = x_data[:,i]\n",
    "    else:\n",
    "        label_encoder.append(preprocessing.LabelEncoder())\n",
    "        x_encoded[:,i] = label_encoder[-1].fit_transform(x_data[:,i])\n",
    "        \n",
    "x_values = x_encoded[:,:-1].astype(int)\n",
    "y_values = x_encoded[:,-1].astype(int)\n",
    "print(y_values)"
   ]
  },
  {
   "cell_type": "code",
   "execution_count": 41,
   "metadata": {},
   "outputs": [],
   "source": [
    "# 建立分类器\n",
    "classifier = GaussianNB()"
   ]
  },
  {
   "cell_type": "code",
   "execution_count": 42,
   "metadata": {},
   "outputs": [],
   "source": [
    "# 交叉验证\n",
    "from sklearn.model_selection import train_test_split\n",
    "\n",
    "x_train,x_test,y_train,y_test = train_test_split(x_values,y_values,test_size = 0.25,random_state = 5)\n",
    "classifier.fit(x_train,y_train)\n",
    "y_test_pred = classifier.predict(x_test)"
   ]
  },
  {
   "cell_type": "code",
   "execution_count": 43,
   "metadata": {},
   "outputs": [
    {
     "name": "stdout",
     "output_type": "stream",
     "text": [
      "F1: 74.98 %\n"
     ]
    }
   ],
   "source": [
    "# 计算分类器的F1得分\n",
    "from sklearn.model_selection import cross_val_score\n",
    "f1 = cross_val_score(classifier,x_values,y_values,scoring='f1_weighted',cv=5)\n",
    "print('F1:',round(100*f1.mean(),2),'%')"
   ]
  },
  {
   "cell_type": "code",
   "execution_count": 57,
   "metadata": {},
   "outputs": [
    {
     "name": "stdout",
     "output_type": "stream",
     "text": [
      "Output class: ['>50K']\n"
     ]
    }
   ],
   "source": [
    "# 对单一数据点进行编码测试\n",
    "input_data = ['39', 'State-gov', '77516', 'Bachelors', '13', \n",
    "              'Never-married', 'Adm-clerical', 'Not-in-family', 'White', 'Male', '2174', '0', '40', 'United-States'] \n",
    "\n",
    "input_data_encoded = [-1]*len(input_data)\n",
    "count = 0\n",
    "\n",
    "for i,item in enumerate(input_data):\n",
    "    contain = []\n",
    "    contain.append(item)\n",
    "    if item.isdigit():\n",
    "        input_data_encoded[i] = int(item) # 注意，如果不化为int型则会报错\n",
    "    else:    \n",
    "        input_data_encoded[i] = int(label_encoder[count].transform(contain)) \n",
    "        count += 1\n",
    "        \n",
    "input_data_encoded = np.array(input_data_encoded).reshape(1,-1)\n",
    "\n",
    "output_class = classifier.predict(input_data_encoded)\n",
    "print('Output class:',label_encoder[-1].inverse_transform(output_class))"
   ]
  }
 ],
 "metadata": {
  "kernelspec": {
   "display_name": "Python 3",
   "language": "python",
   "name": "python3"
  },
  "language_info": {
   "codemirror_mode": {
    "name": "ipython",
    "version": 3
   },
   "file_extension": ".py",
   "mimetype": "text/x-python",
   "name": "python",
   "nbconvert_exporter": "python",
   "pygments_lexer": "ipython3",
   "version": "3.6.6"
  }
 },
 "nbformat": 4,
 "nbformat_minor": 2
}
