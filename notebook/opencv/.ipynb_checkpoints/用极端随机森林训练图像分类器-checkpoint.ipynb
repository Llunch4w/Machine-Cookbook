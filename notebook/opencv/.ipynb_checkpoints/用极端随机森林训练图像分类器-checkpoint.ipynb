{
 "cells": [
  {
   "cell_type": "markdown",
   "metadata": {},
   "source": [
    "**极端随机森林（ERF）**     \n",
    "基于图像特征构建一组决策树，并通过训练这个森林实现正确的决策"
   ]
  },
  {
   "cell_type": "code",
   "execution_count": 1,
   "metadata": {},
   "outputs": [],
   "source": [
    "import pickle\n",
    "import numpy as np\n",
    "from sklearn.ensemble import ExtraTreesClassifier\n",
    "from sklearn import preprocessing\n",
    "\n",
    "class ERFTrainer(object):\n",
    "    def __init__(self, X, label_words):\n",
    "        self.le = preprocessing.LabelEncoder()  #用一个标签编码器来对训练进行编码\n",
    "        self.clf = ExtraTreesClassifier(n_estimators=100, \n",
    "                max_depth=16, random_state=0)\n",
    "\n",
    "        y = self.encode_labels(label_words)\n",
    "        self.clf.fit(np.asarray(X), y)\n",
    "\n",
    "    def encode_labels(self, label_words): # 对标签进行编码\n",
    "        self.le.fit(label_words) \n",
    "        return np.array(self.le.transform(label_words), dtype=np.float32)\n",
    "\n",
    "    def classify(self, X):  # 对未知数据点进行分类\n",
    "        label_nums = self.clf.predict(np.asarray(X))\n",
    "        label_words = self.le.inverse_transform([int(x) for x in label_nums]) \n",
    "        return label_words \n",
    "    \n",
    "    \n",
    "if __name__=='__main__':\n",
    "    feature_map_file = \"feature_map.pkl\"\n",
    "    model_file = \"erf.pkl\"\n",
    "\n",
    "    # 加载上一节生成的特征地图\n",
    "    with open(feature_map_file, 'rb') as f:\n",
    "        feature_map = pickle.load(f)\n",
    "\n",
    "    # 提取特征向量和标记\n",
    "    label_words = [x['object_class'] for x in feature_map]\n",
    "    dim_size = feature_map[0]['feature_vector'].shape[1]  \n",
    "    X = [np.reshape(x['feature_vector'], (dim_size,)) for x in feature_map]\n",
    "    \n",
    "    # 基于训练数据训练ERF\n",
    "    erf = ERFTrainer(X, label_words) \n",
    "    if model_file:\n",
    "        with open(model_file, 'wb') as f:\n",
    "            pickle.dump(erf, f)"
   ]
  }
 ],
 "metadata": {
  "kernelspec": {
   "display_name": "Python 3",
   "language": "python",
   "name": "python3"
  },
  "language_info": {
   "codemirror_mode": {
    "name": "ipython",
    "version": 3
   },
   "file_extension": ".py",
   "mimetype": "text/x-python",
   "name": "python",
   "nbconvert_exporter": "python",
   "pygments_lexer": "ipython3",
   "version": "3.6.6"
  }
 },
 "nbformat": 4,
 "nbformat_minor": 2
}
