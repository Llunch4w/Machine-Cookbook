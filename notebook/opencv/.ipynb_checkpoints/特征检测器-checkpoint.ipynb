{
 "cells": [
  {
   "cell_type": "markdown",
   "metadata": {},
   "source": [
    "## 检测SIFT特征点\n",
    "尺度不变特征变换是计算机视觉领域中最常用的特征之一，它在大小、方向、对比度等方向都有较强的健壮性"
   ]
  },
  {
   "cell_type": "code",
   "execution_count": null,
   "metadata": {},
   "outputs": [],
   "source": [
    "import cv2\n",
    "import numpy as np\n",
    "input_file = \"table.jpg\"\n",
    "img = cv2.imread(input_file)\n",
    "img_gray = cv2.cvtColor(img, cv2.COLOR_BGR2GRAY)\n",
    "# 初始化SIFT检测器对象并提取关键点\n",
    "sift = cv2.xfeatures2d.SIFT_create()\n",
    "keypoints = sift.detect(img_gray, None)\n",
    "# 在输入图像上画出关键点\n",
    "img_sift = np.copy(img)\n",
    "cv2.drawKeypoints(img, keypoints, img_sift, flags=cv2.DRAW_MATCHES_FLAGS_DRAW_RICH_KEYPOINTS)\n",
    "cv2.imshow('Input image', img)\n",
    "cv2.imshow('SIFT features', img_sift)\n",
    "cv2.waitKey()"
   ]
  },
  {
   "cell_type": "markdown",
   "metadata": {},
   "source": [
    "## Star特征检测器\n",
    "SIFT特征检测器在很多场景都很好用，但是，当创建目标识别系统时，在用SIFT检测特征之前，可能需要用到一个不同的特征检测器。这使我们能够通过灵活地层叠不同的模块来获得最佳的性能。"
   ]
  },
  {
   "cell_type": "code",
   "execution_count": null,
   "metadata": {},
   "outputs": [],
   "source": [
    "import cv2\n",
    "import numpy as np\n",
    "class StarFeatureDetector(object):\n",
    "    def __init__(self):\n",
    "        self.detector = cv2.xfeatures2d.StarDetector_create()\n",
    "\n",
    "    def detect(self, img):\n",
    "        return self.detector.detect(img)\n",
    "    \n",
    "input_file = \"table.jpg\"\n",
    "input_img = cv2.imread(input_file)\n",
    "img_gray = cv2.cvtColor(input_img, cv2.COLOR_BGR2GRAY)\n",
    "keypoints = StarFeatureDetector().detect(input_img)\n",
    "cv2.drawKeypoints(input_img, keypoints, input_img, \n",
    "        flags=cv2.DRAW_MATCHES_FLAGS_DRAW_RICH_KEYPOINTS)\n",
    "cv2.imshow('Star features', input_img)\n",
    "\n",
    "cv2.waitKey()"
   ]
  }
 ],
 "metadata": {
  "kernelspec": {
   "display_name": "Python 3",
   "language": "python",
   "name": "python3"
  },
  "language_info": {
   "codemirror_mode": {
    "name": "ipython",
    "version": 3
   },
   "file_extension": ".py",
   "mimetype": "text/x-python",
   "name": "python",
   "nbconvert_exporter": "python",
   "pygments_lexer": "ipython3",
   "version": "3.6.6"
  }
 },
 "nbformat": 4,
 "nbformat_minor": 2
}
