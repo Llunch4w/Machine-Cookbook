{
 "cells": [
  {
   "cell_type": "markdown",
   "metadata": {},
   "source": [
    "**加载并展示图像，并介绍如何裁剪、调整大小和保存图片**"
   ]
  },
  {
   "cell_type": "code",
   "execution_count": null,
   "metadata": {},
   "outputs": [],
   "source": [
    "import sys\n",
    "import cv2\n",
    "import numpy as np\n",
    "# 加载并显示图像\n",
    "input_file = \"forest.jpg\"\n",
    "img = cv2.imread(input_file)\n",
    "cv2.imshow('Original', img)\n",
    "# 裁剪图像\n",
    "h, w = img.shape[:2]\n",
    "start_row, end_row = int(0.21*h), int(0.73*h)\n",
    "start_col, end_col= int(0.37*w), int(0.92*w)\n",
    "img_cropped = img[start_row:end_row, start_col:end_col]\n",
    "cv2.imshow('Cropped', img_cropped)\n",
    "# 用numpy式的切分方式裁剪图像\n",
    "scaling_factor = 1.3\n",
    "img_scaled = cv2.resize(img, None, fx=scaling_factor, fy=scaling_factor, \n",
    "        interpolation=cv2.INTER_LINEAR)\n",
    "cv2.imshow('Uniform resizing', img_scaled)\n",
    "img_scaled = cv2.resize(img, (250, 400), interpolation=cv2.INTER_AREA)\n",
    "cv2.imshow('Skewed resizing', img_scaled)\n",
    "# 保存图像\n",
    "output_file = input_file[:-4] + '_cropped.jpg'\n",
    "cv2.imwrite(output_file, img_cropped)\n",
    "cv2.waitKey()"
   ]
  },
  {
   "cell_type": "markdown",
   "metadata": {},
   "source": [
    "**检测边**"
   ]
  },
  {
   "cell_type": "code",
   "execution_count": null,
   "metadata": {},
   "outputs": [],
   "source": [
    "import cv2\n",
    "import numpy as np\n",
    "input_file = \"chair.jpg\"\n",
    "img = cv2.imread(input_file)\n",
    "cv2.imshow('Input image', img)\n",
    "# 转成灰度图\n",
    "img_gray = cv2.cvtColor(img, cv2.COLOR_BGR2GRAY)\n",
    "img_gray = np.float32(img_gray)\n",
    "h, w = img.shape[:2]\n",
    "# 索贝尔滤波器是一种边缘检测器，它采用3x3内核来检测水平边和垂直边\n",
    "# 索贝尔水平检测器\n",
    "sobel_horizontal = cv2.Sobel(img, cv2.CV_64F, 1, 0, ksize=5)\n",
    "# 索贝尔垂直检测器\n",
    "sobel_vertical = cv2.Sobel(img, cv2.CV_64F, 0, 1, ksize=5)\n",
    "# 拉普拉斯边缘检测器\n",
    "laplacian = cv2.Laplacian(img, cv2.CV_64F)\n",
    "# Canny边缘检测器\n",
    "canny = cv2.Canny(img, 50, 240)\n",
    "# 显示所有的输出图像\n",
    "cv2.imshow('Original', img)\n",
    "cv2.imshow('Sobel horizontal', sobel_horizontal)\n",
    "cv2.imshow('Sobel vertical', sobel_vertical)\n",
    "cv2.imshow('Laplacian', laplacian)\n",
    "cv2.imshow('Canny', canny)\n",
    "\n",
    "cv2.waitKey()"
   ]
  },
  {
   "cell_type": "markdown",
   "metadata": {},
   "source": [
    "**直方图均衡化**     \n",
    "直方图均衡化指修改图像的像素以增强图像的对比强度的过程。人的眼睛喜欢对比，这也是为什么几乎所有的照相机系统都会用直方图\n",
    "均衡化来使图像更好看。有趣的是，直方图均衡化过程不同于彩色图像的灰度化过程。在处理彩色图像时有一个问题，这一节的介绍\n",
    "中会提到，接下来具体介绍如何实现直方图的均衡化"
   ]
  },
  {
   "cell_type": "markdown",
   "metadata": {},
   "source": [
    "直方图均衡化仅适用于亮度通道。一个RGB图像由3个颜色通道组成，因此不能对这些通道单独地做直方图均衡化。\n",
    "在做其他操作之前，需要将强度信息从颜色信息中分离出来。因此，首先将其转换到YUV色彩空间，均衡Y通道，\n",
    "然后将其转换为RGB并得到输出。"
   ]
  },
  {
   "cell_type": "code",
   "execution_count": null,
   "metadata": {},
   "outputs": [],
   "source": [
    "import cv2\n",
    "import numpy as np\n",
    "input_file = \"sunrise.jpg\"\n",
    "img = cv2.imread(input_file)\n",
    "img_gray = cv2.cvtColor(img, cv2.COLOR_BGR2GRAY)\n",
    "cv2.imshow('Input grayscale image', img_gray)\n",
    "# 均衡灰度图像直方图\n",
    "img_gray_histeq = cv2.equalizeHist(img_gray)\n",
    "cv2.imshow('Histogram equalized - grayscale', img_gray_histeq)\n",
    "# 均衡彩色图像的直方图\n",
    "img_yuv = cv2.cvtColor(img, cv2.COLOR_BGR2YUV)\n",
    "# 均衡Y通道\n",
    "img_yuv[:,:,0] = cv2.equalizeHist(img_yuv[:,:,0])\n",
    "# 将其转化为BGR\n",
    "img_histeq = cv2.cvtColor(img_yuv, cv2.COLOR_YUV2BGR)\n",
    "# 显示输入和输出图像\n",
    "cv2.imshow('Input color image', img)\n",
    "cv2.imshow('Histogram equalized - color', img_histeq)\n",
    "cv2.waitKey()"
   ]
  },
  {
   "cell_type": "markdown",
   "metadata": {},
   "source": [
    "**检测棱角**     "
   ]
  },
  {
   "cell_type": "code",
   "execution_count": null,
   "metadata": {},
   "outputs": [],
   "source": [
    "import cv2\n",
    "import numpy as np\n",
    "input_file = \"box.png\"\n",
    "img = cv2.imread(input_file, cv2.IMREAD_GRAYSCALE)\n",
    "h, w = img.shape\n",
    "img_gray = cv2.cvtColor(img, cv2.COLOR_BGR2GRAY)\n",
    "img_gray = np.float32(img_gray) # 浮点值将用于棱角检测过程\n",
    "# 对灰度图像运行哈里斯检测器\n",
    "img_harris = cv2.cornerHarris(img_gray, 7, 5, 0.04)\n",
    "# 为了标记棱角，需要放大图像\n",
    "img_harris = cv2.dilate(img_harris, None)\n",
    "# 定义显示重要点个数的阙值\n",
    "img[img_harris > 0.01 * img_harris.max()] = [0, 0, 0]\n",
    "cv2.imshow('Harris Corners', img)\n",
    "cv2.waitKey()"
   ]
  }
 ],
 "metadata": {
  "kernelspec": {
   "display_name": "Python 3",
   "language": "python",
   "name": "python3"
  },
  "language_info": {
   "codemirror_mode": {
    "name": "ipython",
    "version": 3
   },
   "file_extension": ".py",
   "mimetype": "text/x-python",
   "name": "python",
   "nbconvert_exporter": "python",
   "pygments_lexer": "ipython3",
   "version": "3.6.6"
  }
 },
 "nbformat": 4,
 "nbformat_minor": 2
}
