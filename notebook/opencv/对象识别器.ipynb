{
 "cells": [
  {
   "cell_type": "code",
   "execution_count": null,
   "metadata": {},
   "outputs": [],
   "source": [
    "import pickle\n",
    "import cv2\n",
    "import numpy as np\n",
    "\n",
    "import build_features as bf # 本地文件\n",
    "from trainer import ERFTrainer # 本地文件\n",
    "\n",
    "# 定义一个类来处理图像标签提取函数\n",
    "class ImageTagExtractor(object):\n",
    "    def __init__(self, model_file, codebook_file):\n",
    "        with open(model_file, 'rb') as f:\n",
    "            self.erf = pickle.load(f)\n",
    "\n",
    "        with open(codebook_file, 'rb') as f:\n",
    "            self.kmeans, self.centroids = pickle.load(f)\n",
    "\n",
    "    def predict(self, img, scaling_size):\n",
    "        img = bf.resize_image(img, scaling_size)\n",
    "        feature_vector = bf.BagOfWords().construct_feature(\n",
    "                img, self.kmeans, self.centroids)\n",
    "        image_tag = self.erf.classify(feature_vector)[0]\n",
    "        return image_tag\n",
    "    \n",
    "if __name__=='__main__':\n",
    "    model_file = \"erf.pkl\"\n",
    "    codebook_file = \"codebook.pkl\"\n",
    "    input_image = cv2.imread(\"imagefile.jpg\")\n",
    "\n",
    "    scaling_size = 200\n",
    "\n",
    "    print(\"\\nOutput:\", ImageTagExtractor(model_file, \n",
    "            codebook_file).predict(input_image, scaling_size))"
   ]
  }
 ],
 "metadata": {
  "kernelspec": {
   "display_name": "Python 3",
   "language": "python",
   "name": "python3"
  },
  "language_info": {
   "codemirror_mode": {
    "name": "ipython",
    "version": 3
   },
   "file_extension": ".py",
   "mimetype": "text/x-python",
   "name": "python",
   "nbconvert_exporter": "python",
   "pygments_lexer": "ipython3",
   "version": "3.6.6"
  }
 },
 "nbformat": 4,
 "nbformat_minor": 2
}
