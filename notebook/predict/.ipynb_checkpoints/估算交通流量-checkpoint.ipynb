{
 "cells": [
  {
   "cell_type": "markdown",
   "metadata": {},
   "source": [
    "本项目将SVM作为一个回归器（在之前项目中是作为分类器使用）来估算交通流量     \n",
    "在traffic_data.txt中包含的数据集统计了球队进行主场比赛期间，体育场旁边马路通过的车辆数量，如下：\n",
    "- 星期\n",
    "- 时间\n",
    "- 对手球队\n",
    "- 棒球比赛是否正在继续\n",
    "- 通行的汽车数量"
   ]
  },
  {
   "cell_type": "code",
   "execution_count": 1,
   "metadata": {},
   "outputs": [
    {
     "name": "stdout",
     "output_type": "stream",
     "text": [
      "[ 3  8 10 ... 11 14 17]\n",
      "均方误差 =  97.35\n",
      "Predicted traffic: 32\n"
     ]
    }
   ],
   "source": [
    "from sklearn.svm import SVC\n",
    "from sklearn import preprocessing\n",
    "import numpy as np\n",
    "\n",
    "import warnings\n",
    "warnings.filterwarnings(\"ignore\")\n",
    "\n",
    "def txt_read2(filename,delim):\n",
    "    x_data = []\n",
    "    with open(filename,'r') as f:\n",
    "        for line in f:\n",
    "            data = line.strip().split(delim)\n",
    "            x_data.append(data)\n",
    "\n",
    "    x_data = np.array(x_data)\n",
    "    return x_data\n",
    "\n",
    "def encode(x_data):\n",
    "    # 将字符串转化为数值\n",
    "    label_encoder = []\n",
    "    x_encoded = np.empty(x_data.shape)\n",
    "    for i,item in enumerate(x_data[0]):\n",
    "        if item.isdigit():\n",
    "            x_encoded[:,i] = x_data[:,i]\n",
    "        else:\n",
    "            label_encoder.append(preprocessing.LabelEncoder())\n",
    "            x_encoded[:,i] = label_encoder[-1].fit_transform(x_data[:,i])\n",
    "            \n",
    "    x_values = x_encoded[:,:-1].astype(int)\n",
    "    y_values = x_encoded[:,-1].astype(int)\n",
    "    print(y_values)\n",
    "    return x_values,y_values,label_encoder\n",
    "\n",
    "def svm(params,x_data,y_data):\n",
    "    from sklearn.model_selection import train_test_split\n",
    "    import sklearn.metrics as sm\n",
    "\n",
    "    x_train,x_test,y_train,y_test = train_test_split(x_data,y_data,test_size=0.25,random_state=5)\n",
    "    regressor = SVC(**params)\n",
    "    regressor.fit(x_train,y_train)\n",
    "    \n",
    "    y_test_pred = regressor.predict(x_test)\n",
    "    print('均方误差 = ',round(sm.mean_squared_error(y_test,y_test_pred),2))\n",
    "    \n",
    "    return regressor\n",
    "\n",
    "def testone(regressor,input_data):\n",
    "    count = 0\n",
    "    input_data_encoded = [-1]*len(input_data)\n",
    "    for i,item in enumerate(input_data):\n",
    "        contain = []\n",
    "        contain.append(item)\n",
    "        if item.isdigit():\n",
    "            input_data_encoded[i] = int(item) # 注意，如果不化为int型则会报错\n",
    "        else:    \n",
    "            input_data_encoded[i] = int(label_encoder[count].transform(contain)) \n",
    "            count += 1\n",
    "        \n",
    "    input_data_encoded = np.array(input_data_encoded).reshape(1,-1)\n",
    "\n",
    "    print('Predicted traffic:',int(regressor.predict(input_data_encoded)[0]))\n",
    "\n",
    "x_data = txt_read2('traffic_data.txt',',')\n",
    "x_values,y_values,label_encoder = encode(x_data)\n",
    "params = {'kernel':'rbf','C':10.0}\n",
    "regressor = svm(params,x_values,y_values)\n",
    "input_data = ['Tuesday','13:35','San Francisco','yes']\n",
    "testone(regressor,input_data )\n"
   ]
  }
 ],
 "metadata": {
  "kernelspec": {
   "display_name": "Python 3",
   "language": "python",
   "name": "python3"
  },
  "language_info": {
   "codemirror_mode": {
    "name": "ipython",
    "version": 3
   },
   "file_extension": ".py",
   "mimetype": "text/x-python",
   "name": "python",
   "nbconvert_exporter": "python",
   "pygments_lexer": "ipython3",
   "version": "3.6.6"
  }
 },
 "nbformat": 4,
 "nbformat_minor": 2
}
