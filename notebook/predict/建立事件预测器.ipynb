{
 "cells": [
  {
   "cell_type": "markdown",
   "metadata": {},
   "source": [
    "此项目将用SVM来预测一栋大楼是否在举行活动    \n",
    "\n",
    "观察building_event_binary.txt文件中的数据，对于每一行数据从左到右分别代表着\n",
    "- 星期\n",
    "- 日期\n",
    "- 时间\n",
    "- 离开大楼的人数\n",
    "- 进入大楼的人数\n",
    "- 是否有活动    \n",
    "\n",
    "前5个数据组成输入数据，我们的任务是预测大楼是否举行活动"
   ]
  },
  {
   "cell_type": "code",
   "execution_count": 25,
   "metadata": {},
   "outputs": [
    {
     "name": "stdout",
     "output_type": "stream",
     "text": [
      "[0 0 0 0 0 0 0 0 0 0 0 0 0 0 2 2 0 0 0 0 0 0 0 0 0 0 0 0 0 0 0 0 0 0 0 0 0\n",
      " 0 0 0 0 0 0 0 0 0 0 0 0 0 0 0 0 0 0 0 0 0 0 0 1 1 1 1 1 1 0 0 0 0 0 0 0 0\n",
      " 0 0 0 0 0 0 0 0 0 0 2 2 2 2 2 0 0 0 0 0 0 0 0 0 0 0 0 0 0 0 0 0 0 2 2 2 2\n",
      " 2 2 2 2 2 0 0 0 0 0 0 0 0 0 0 0 0 0 2 2 2 2 1 1 1 1 1 1 1 1 1 1 1 1 1 1 1\n",
      " 1 1 1 1 1 1 1 1 1 1 0 0 0 0 0 0 0 0 2 2 2 2 2 2 2 2 2 2]\n"
     ]
    }
   ],
   "source": [
    "import warnings\n",
    "warnings.filterwarnings(\"ignore\")\n",
    "\n",
    "import numpy as np\n",
    "from sklearn.svm import SVC\n",
    "from sklearn import preprocessing\n",
    "\n",
    "def txt_read(filename,delim):\n",
    "    x_data = []\n",
    "    with open(filename,'r') as f:\n",
    "        for line in f:\n",
    "            data = line.strip().split(delim)\n",
    "            x_data.append([data[0]] + data[2:])\n",
    "\n",
    "    x_data = np.array(x_data)\n",
    "    return x_data\n",
    "\n",
    "def encode(x_data):\n",
    "    # 将字符串转化为数值\n",
    "    label_encoder = []\n",
    "    x_encoded = np.empty(x_data.shape)\n",
    "    for i,item in enumerate(x_data[0]):\n",
    "        if item.isdigit():\n",
    "            x_encoded[:,i] = x_data[:,i]\n",
    "        else:\n",
    "            label_encoder.append(preprocessing.LabelEncoder())\n",
    "            x_encoded[:,i] = label_encoder[-1].fit_transform(x_data[:,i])\n",
    "            \n",
    "    x_values = x_encoded[:,:-1].astype(int)\n",
    "    y_values = x_encoded[:,-1].astype(int)\n",
    "    print(y_values)\n",
    "    return x_values,y_values,label_encoder\n",
    "\n",
    "x_data = txt_read('building_event_multiclass.txt',',')\n",
    "x_values,y_values,label_encoder = encode(x_data)"
   ]
  },
  {
   "cell_type": "code",
   "execution_count": 26,
   "metadata": {},
   "outputs": [
    {
     "name": "stdout",
     "output_type": "stream",
     "text": [
      "\n",
      " ##############################\n",
      "\n",
      "Classifier performance on training dataset\n",
      "\n",
      "\n",
      "               precision    recall  f1-score   support\n",
      "\n",
      "     Class-0       1.00      0.99      0.99        81\n",
      "     Class-1       0.96      1.00      0.98        25\n",
      "     Class-2       1.00      1.00      1.00        26\n",
      "\n",
      "    accuracy                           0.99       132\n",
      "   macro avg       0.99      1.00      0.99       132\n",
      "weighted avg       0.99      0.99      0.99       132\n",
      " \n",
      "\n",
      "\n",
      " ##############################\n",
      "Accuracy: 64.4 %\n",
      "\n",
      " ##############################\n",
      "\n",
      "Classifier performance on testing dataset\n",
      "\n",
      "\n",
      "               precision    recall  f1-score   support\n",
      "\n",
      "     Class-0       0.79      0.97      0.87        34\n",
      "     Class-1       0.50      0.17      0.25         6\n",
      "     Class-2       0.00      0.00      0.00         4\n",
      "\n",
      "    accuracy                           0.77        44\n",
      "   macro avg       0.43      0.38      0.37        44\n",
      "weighted avg       0.68      0.77      0.71        44\n",
      " \n",
      "\n",
      "\n",
      " ##############################\n",
      "Accuracy: 77.81 %\n"
     ]
    }
   ],
   "source": [
    "from sklearn.metrics import classification_report\n",
    "from sklearn.model_selection import train_test_split\n",
    "\n",
    "def svm(params,x_data,y_data):\n",
    "\n",
    "    x_train,x_test,y_train,y_test = train_test_split(x_data,y_data,test_size=0.25,random_state=5)\n",
    "    classifier = SVC(**params)\n",
    "    classifier.fit(x_train,y_train)\n",
    "\n",
    "    # 训练集合分类结果\n",
    "\n",
    "    target_names = ['Class-' + str(int(i)) for i in set(y_data)]\n",
    "    print('\\n','#'*30)\n",
    "    print('\\nClassifier performance on training dataset\\n')\n",
    "    y_pred = classifier.predict(x_train)\n",
    "    print('\\n',classification_report(y_train,y_pred,target_names=target_names),'\\n')\n",
    "    print('\\n','#'*30)\n",
    "    \n",
    "    from sklearn.model_selection import cross_val_score\n",
    "    \n",
    "    num_validation = 5\n",
    "    accuracy = cross_val_score(classifier,x_train,y_train,scoring='accuracy',cv=num_validation)\n",
    "    print('Accuracy:',round(100*accuracy.mean(),2),'%')\n",
    "\n",
    "    # 测试集合分类结果\n",
    "\n",
    "    target_names = ['Class-' + str(int(i)) for i in set(y_data)]\n",
    "    print('\\n','#'*30)\n",
    "    print('\\nClassifier performance on testing dataset\\n')\n",
    "    y_test_pred = classifier.predict(x_test)\n",
    "    print('\\n',classification_report(y_test,y_test_pred,target_names=target_names),'\\n')\n",
    "    print('\\n','#'*30)\n",
    "    \n",
    "\n",
    "    num_validation = 5\n",
    "    accuracy = cross_val_score(classifier,x_test,y_test,scoring='accuracy',cv=num_validation)\n",
    "    print('Accuracy:',round(100*accuracy.mean(),2),'%')\n",
    "    \n",
    "    return classifier\n",
    "    \n",
    "params = {'kernel':'rbf','probability':True,'class_weight':'balanced'}\n",
    "classifier = svm(params,x_values,y_values)"
   ]
  },
  {
   "cell_type": "code",
   "execution_count": 27,
   "metadata": {},
   "outputs": [
    {
     "name": "stdout",
     "output_type": "stream",
     "text": [
      "Output class: ['eventA']\n"
     ]
    }
   ],
   "source": [
    "def testone(classifier,input_data):\n",
    "    count = 0\n",
    "    input_data_encoded = [-1]*len(input_data)\n",
    "    for i,item in enumerate(input_data):\n",
    "        contain = []\n",
    "        contain.append(item)\n",
    "        if item.isdigit():\n",
    "            input_data_encoded[i] = int(item) # 注意，如果不化为int型则会报错\n",
    "        else:    \n",
    "            input_data_encoded[i] = int(label_encoder[count].transform(contain)) \n",
    "            count += 1\n",
    "        \n",
    "    input_data_encoded = np.array(input_data_encoded).reshape(1,-1)\n",
    "\n",
    "    output_class = classifier.predict(input_data_encoded)\n",
    "    print('Output class:',label_encoder[-1].inverse_transform(output_class))\n",
    "    \n",
    "input_data = ['Tuesday','12:30:00','21','23']\n",
    "testone(classifier,input_data)"
   ]
  }
 ],
 "metadata": {
  "kernelspec": {
   "display_name": "Python 3",
   "language": "python",
   "name": "python3"
  },
  "language_info": {
   "codemirror_mode": {
    "name": "ipython",
    "version": 3
   },
   "file_extension": ".py",
   "mimetype": "text/x-python",
   "name": "python",
   "nbconvert_exporter": "python",
   "pygments_lexer": "ipython3",
   "version": "3.6.6"
  }
 },
 "nbformat": 4,
 "nbformat_minor": 2
}
