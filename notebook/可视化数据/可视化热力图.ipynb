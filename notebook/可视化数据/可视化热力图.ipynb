{
 "cells": [
  {
   "cell_type": "code",
   "execution_count": 2,
   "metadata": {},
   "outputs": [
    {
     "data": {
      "image/png": "[encoded data removed]",
      "text/plain": [
       "<Figure size 432x288 with 1 Axes>"
      ]
     },
     "metadata": {
      "needs_background": "light"
     },
     "output_type": "display_data"
    }
   ],
   "source": [
    "import numpy as np\n",
    "import matplotlib.pyplot as plt\n",
    "\n",
    "group1 = ['France', 'Italy', 'Spain', 'Portugal', 'Germany'] \n",
    "group2 = ['Japan', 'China', 'Brazil', 'Russia', 'Australia']\n",
    "\n",
    "# 生成一些随机数\n",
    "data = np.random.rand(5, 5)\n",
    "# 创建一个图像\n",
    "fig, ax = plt.subplots()\n",
    "# 创建一个热力图\n",
    "heatmap = ax.pcolor(data, cmap=plt.cm.gray)\n",
    "# 画出这些值\n",
    "# 将坐标轴放在土块的中间\n",
    "ax.set_xticks(np.arange(data.shape[0]) + 0.5, minor=False)\n",
    "ax.set_yticks(np.arange(data.shape[1]) + 0.5, minor=False)\n",
    "# 让热力图显示成一张表\n",
    "ax.invert_yaxis()\n",
    "ax.xaxis.tick_top()\n",
    "# 增加坐标轴标签\n",
    "ax.set_xticklabels(group2, minor=False)\n",
    "ax.set_yticklabels(group1, minor=False)\n",
    "\n",
    "plt.show()"
   ]
  }
 ],
 "metadata": {
  "kernelspec": {
   "display_name": "Python 3",
   "language": "python",
   "name": "python3"
  },
  "language_info": {
   "codemirror_mode": {
    "name": "ipython",
    "version": 3
   },
   "file_extension": ".py",
   "mimetype": "text/x-python",
   "name": "python",
   "nbconvert_exporter": "python",
   "pygments_lexer": "ipython3",
   "version": "3.6.6"
  }
 },
 "nbformat": 4,
 "nbformat_minor": 2
}
