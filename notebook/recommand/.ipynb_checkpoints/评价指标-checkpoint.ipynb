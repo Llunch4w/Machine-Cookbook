{
 "cells": [
  {
   "cell_type": "markdown",
   "metadata": {},
   "source": [
    "**欧氏距离**    \n",
    "为了构建一个推荐引擎，需要定义相似度指标，以便于找到与数据库中特定用户相似的用户    \n",
    "欧式距离分数就是这样一个指标，可以计算两个数据点之间的欧几里得距离"
   ]
  },
  {
   "cell_type": "code",
   "execution_count": 3,
   "metadata": {},
   "outputs": [
    {
     "name": "stdout",
     "output_type": "stream",
     "text": [
      "\n",
      "Pearson score:\n",
      "0.29429805508554946\n"
     ]
    }
   ],
   "source": [
    "import json\n",
    "import numpy as np\n",
    "\n",
    "# 计算user1和user2的欧式距离分数\n",
    "def euclidean_score(dataset, user1, user2):\n",
    "    # 用户是否在数据库中出现\n",
    "    if user1 not in dataset:\n",
    "        raise TypeError('User ' + user1 + ' not present in the dataset')\n",
    "\n",
    "    if user2 not in dataset:\n",
    "        raise TypeError('User ' + user2 + ' not present in the dataset')\n",
    "\n",
    "    # 提取两个用户评分过的电影\n",
    "    rated_by_both = {}\n",
    "\n",
    "    for item in dataset[user1]:\n",
    "        if item in dataset[user2]:\n",
    "            rated_by_both[item] = 1\n",
    "\n",
    "    num_ratings = len(rated_by_both) \n",
    "\n",
    "    # 如果没有两个用户共同评分过的电影，则说明这两个用户之间没有相似度\n",
    "    if num_ratings == 0:\n",
    "        return 0\n",
    "\n",
    "    # 对于每个共同评分，只计算平方和的平方根，并将该值归一化，使得评分值在[0,1]范围内\n",
    "    squared_difference = []\n",
    "    for item in dataset[user1]:\n",
    "        if item in dataset[user2]:\n",
    "            squared_difference.append(np.square(dataset[user1][item]-dataset[user2][item]))\n",
    "    \n",
    "    return 1/(1+np.sqrt(np.sum(squared_difference)))\n",
    "\n",
    "\n",
    "data_file = 'movie_ratings.json'\n",
    "\n",
    "with open(data_file, 'r') as f:\n",
    "    data = json.loads(f.read())\n",
    "\n",
    "user1 = 'John Carson'\n",
    "user2 = 'Michelle Peterson'\n",
    "\n",
    "print(\"\\nPearson score:\")\n",
    "print(euclidean_score(data, user1, user2))"
   ]
  },
  {
   "cell_type": "markdown",
   "metadata": {},
   "source": [
    "**皮尔逊相关系数**      \n",
    "欧式距离分数是一个非常好的指标，但是它也有一些缺点。     \n",
    "因此，皮尔逊相关系数常用于推荐引擎。"
   ]
  },
  {
   "cell_type": "code",
   "execution_count": 5,
   "metadata": {},
   "outputs": [
    {
     "name": "stdout",
     "output_type": "stream",
     "text": [
      "\n",
      "Pearson score:\n",
      "0.39605901719066977\n"
     ]
    }
   ],
   "source": [
    "import json\n",
    "import numpy as np\n",
    "\n",
    "# 计算皮尔逊相关系数\n",
    "def pearson_score(dataset, user1, user2):\n",
    "    # 用户是否在数据库中出现\n",
    "    if user1 not in dataset:\n",
    "        raise TypeError('User ' + user1 + ' not present in the dataset')\n",
    "\n",
    "    if user2 not in dataset:\n",
    "        raise TypeError('User ' + user2 + ' not present in the dataset')\n",
    "\n",
    "    # 提取两个用户评分过的电影\n",
    "    rated_by_both = {}\n",
    "\n",
    "    for item in dataset[user1]:\n",
    "        if item in dataset[user2]:\n",
    "            rated_by_both[item] = 1\n",
    "\n",
    "    num_ratings = len(rated_by_both) \n",
    "\n",
    "    # 如果没有两个用户共同评分过的电影，则说明这两个用户之间没有相似度\n",
    "    if num_ratings == 0:\n",
    "        return 0\n",
    "\n",
    "    # 计算相同评分电影的值之和\n",
    "    user1_sum = np.sum([dataset[user1][item] for item in rated_by_both])\n",
    "    user2_sum = np.sum([dataset[user2][item] for item in rated_by_both])\n",
    "\n",
    "    # 计算相同评分电影的平方值之和\n",
    "    user1_squared_sum = np.sum([np.square(dataset[user1][item]) for item in rated_by_both])\n",
    "    user2_squared_sum = np.sum([np.square(dataset[user2][item]) for item in rated_by_both])\n",
    "\n",
    "    # 计算数据集乘积之和\n",
    "    product_sum = np.sum([dataset[user1][item] * dataset[user2][item] for item in rated_by_both])\n",
    "\n",
    "    # 计算皮尔逊相关系数需要的各种元素\n",
    "    Sxy = product_sum - (user1_sum * user2_sum / num_ratings)\n",
    "    Sxx = user1_squared_sum - np.square(user1_sum) / num_ratings\n",
    "    Syy = user2_squared_sum - np.square(user2_sum) / num_ratings\n",
    "    \n",
    "    if Sxx * Syy == 0:\n",
    "        return 0\n",
    "\n",
    "    return Sxy / np.sqrt(Sxx * Syy)\n",
    "\n",
    "\n",
    "data_file = 'movie_ratings.json'\n",
    "\n",
    "with open(data_file, 'r') as f:\n",
    "    data = json.loads(f.read())\n",
    "\n",
    "user1 = 'John Carson'\n",
    "user2 = 'Michelle Peterson'\n",
    "\n",
    "print(\"\\nPearson score:\")\n",
    "print(pearson_score(data, user1, user2))\n",
    "\n"
   ]
  },
  {
   "cell_type": "markdown",
   "metadata": {},
   "source": [
    "**寻找数据集中的相似用户**    \n",
    "为某位用户生成推荐信息可以同时推荐给与其相似的用户"
   ]
  },
  {
   "cell_type": "code",
   "execution_count": 7,
   "metadata": {},
   "outputs": [
    {
     "name": "stdout",
     "output_type": "stream",
     "text": [
      "\n",
      "Users similar to John Carson:\n",
      "\n",
      "User\t\t\tSimilarity score\n",
      "\n",
      "Michael Henry \t\t 0.99\n",
      "Alex Roberts \t\t 0.75\n",
      "Melissa Jones \t\t 0.59\n"
     ]
    }
   ],
   "source": [
    "import json\n",
    "import numpy as np\n",
    "\n",
    "# 寻找特定数量与输入用户相似的用户\n",
    "def find_similar_users(dataset, user, num_users):\n",
    "    # 如果用户不在数据库中\n",
    "    if user not in dataset:\n",
    "        raise TypeError('User ' + user + ' not present in the dataset')\n",
    "\n",
    "    # 计算所有用户的皮尔逊相关度\n",
    "    scores = np.array([[x, pearson_score(dataset, user, x)] for x in dataset if user != x])\n",
    "\n",
    "    # 评分按第二列排序\n",
    "    scores_sorted = np.argsort(scores[:, 1])\n",
    "\n",
    "    # 评分按照降序排列 \n",
    "    scored_sorted_dec = scores_sorted[::-1]\n",
    "\n",
    "    # 提取出num_users个最高分\n",
    "    top_k = scored_sorted_dec[0:num_users] \n",
    "\n",
    "    return scores[top_k] \n",
    "\n",
    "\n",
    "data_file = 'movie_ratings.json'\n",
    "with open(data_file, 'r') as f:\n",
    "    data = json.loads(f.read())\n",
    "\n",
    "user = 'John Carson'\n",
    "print(\"\\nUsers similar to \" + user + \":\\n\")\n",
    "similar_users = find_similar_users(data, user, 3) \n",
    "print(\"User\\t\\t\\tSimilarity score\\n\")\n",
    "for item in similar_users:\n",
    "    print(item[0], '\\t\\t', round(float(item[1]), 2))"
   ]
  },
  {
   "cell_type": "markdown",
   "metadata": {},
   "source": [
    "**生成电影推荐**     "
   ]
  },
  {
   "cell_type": "code",
   "execution_count": 8,
   "metadata": {},
   "outputs": [
    {
     "name": "stdout",
     "output_type": "stream",
     "text": [
      "\n",
      "Recommendations for Michael Henry:\n",
      "1. Jerry Maguire\n",
      "2. Inception\n",
      "3. Anger Management\n",
      "\n",
      "Recommendations for John Carson:\n",
      "1. No recommendations possible\n"
     ]
    }
   ],
   "source": [
    "import json\n",
    "import numpy as np\n",
    "\n",
    "# 为给定用户生成电影推荐\n",
    "def generate_recommendations(dataset, user):\n",
    "    if user not in dataset:\n",
    "        raise TypeError('User ' + user + ' not present in the dataset')\n",
    "\n",
    "    total_scores = {}\n",
    "    similarity_sums = {}\n",
    "\n",
    "    for u in [x for x in dataset if x != user]:\n",
    "        similarity_score = pearson_score(dataset, user, u)\n",
    "\n",
    "        if similarity_score <= 0:\n",
    "            continue\n",
    "\n",
    "        # 找到还未被该用户评分的电影\n",
    "        for item in [x for x in dataset[u] if x not in dataset[user] or dataset[user][x] == 0]:\n",
    "            total_scores.update({item: dataset[u][item] * similarity_score})\n",
    "            similarity_sums.update({item: similarity_score})\n",
    "    \n",
    "    # 如果该用户看过数据库中的所有电影，那就不能为用户 推荐电影\n",
    "    if len(total_scores) == 0:\n",
    "        return ['No recommendations possible']\n",
    "\n",
    "    # 生成一个电影评分标准化列表\n",
    "    movie_ranks = np.array([[total/similarity_sums[item], item] \n",
    "            for item, total in total_scores.items()])\n",
    "\n",
    "    # 根据第一列对皮尔逊相关系数进行降序排列\n",
    "    movie_ranks = movie_ranks[np.argsort(movie_ranks[:, 0])[::-1]]\n",
    "\n",
    "    # 提取出推荐电影\n",
    "    recommendations = [movie for _, movie in movie_ranks]\n",
    "\n",
    "    return recommendations\n",
    "\n",
    "\n",
    "data_file = 'movie_ratings.json'\n",
    "with open(data_file, 'r') as f:\n",
    "    data = json.loads(f.read())\n",
    "\n",
    "user = 'Michael Henry'\n",
    "print(\"\\nRecommendations for \" + user + \":\")\n",
    "movies = generate_recommendations(data, user) \n",
    "for i, movie in enumerate(movies):\n",
    "    print(str(i+1) + '. ' + movie)\n",
    "\n",
    "user = 'John Carson' \n",
    "print(\"\\nRecommendations for \" + user + \":\")\n",
    "movies = generate_recommendations(data, user) \n",
    "for i, movie in enumerate(movies):\n",
    "    print(str(i+1) + '. ' + movie)"
   ]
  }
 ],
 "metadata": {
  "kernelspec": {
   "display_name": "Python 3",
   "language": "python",
   "name": "python3"
  },
  "language_info": {
   "codemirror_mode": {
    "name": "ipython",
    "version": 3
   },
   "file_extension": ".py",
   "mimetype": "text/x-python",
   "name": "python",
   "nbconvert_exporter": "python",
   "pygments_lexer": "ipython3",
   "version": "3.6.6"
  }
 },
 "nbformat": 4,
 "nbformat_minor": 2
}
