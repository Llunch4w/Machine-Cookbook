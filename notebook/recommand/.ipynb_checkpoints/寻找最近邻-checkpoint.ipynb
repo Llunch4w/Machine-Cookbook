{
 "cells": [
  {
   "cell_type": "markdown",
   "metadata": {},
   "source": [
    "最近邻模型是指一个通用算法类，其目的是根据训练数据集中的最近邻数量来做决策"
   ]
  },
  {
   "cell_type": "code",
   "execution_count": 29,
   "metadata": {},
   "outputs": [
    {
     "name": "stdout",
     "output_type": "stream",
     "text": [
      "\n",
      "k nearest neighbors\n",
      "1 --> [2. 2.]\n",
      "2 --> [3. 1.]\n",
      "3 --> [3. 3.]\n",
      "[[2. 2.]\n",
      " [3. 1.]\n",
      " [3. 3.]]\n",
      "[[2 4 7]]\n"
     ]
    },
    {
     "data": {
      "image/png": "[encoded data removed]",
      "text/plain": [
       "<Figure size 432x288 with 1 Axes>"
      ]
     },
     "metadata": {
      "needs_background": "light"
     },
     "output_type": "display_data"
    },
    {
     "data": {
      "image/png": "[encoded data removed]",
      "text/plain": [
       "<Figure size 432x288 with 1 Axes>"
      ]
     },
     "metadata": {
      "needs_background": "light"
     },
     "output_type": "display_data"
    }
   ],
   "source": [
    "import numpy as np\n",
    "import matplotlib.pyplot as plt\n",
    "from sklearn.neighbors import NearestNeighbors\n",
    "\n",
    "# 创建一些示例二维数据\n",
    "X = np.array([[1, 1], [1, 3], [2, 2], [2.5, 5], [3, 1], \n",
    "        [4, 2], [2, 3.5], [3, 3], [3.5, 4]])\n",
    "\n",
    "# 目标：对于任意给定点找到其3个最近邻\n",
    "# 寻找最近邻的数量\n",
    "num_neighbors = 3\n",
    "# 输入数据点\n",
    "input_point = np.array([[2.6, 1.7]])\n",
    "# 画出数据分布\n",
    "plt.figure()\n",
    "plt.scatter(X[:,0], X[:,1], marker='o', s=25, color='k')\n",
    "\n",
    "# 建立最近邻模型\n",
    "knn = NearestNeighbors(n_neighbors=num_neighbors, algorithm='ball_tree').fit(X)\n",
    "# 计算输入点与输入数据中所有点的距离\n",
    "distances, indices = knn.kneighbors(input_point)\n",
    "\n",
    "# 打印k个最近邻\n",
    "print(\"\\nk nearest neighbors\")\n",
    "for rank, index in enumerate(indices[0][:num_neighbors]):\n",
    "    print(str(rank+1) + \" -->\", X[index])\n",
    "# indices数组是一个已排序的数组\n",
    "\n",
    "\n",
    "# 画出输入数据点，并突出显示k个最近邻\n",
    "plt.figure()\n",
    "plt.scatter(X[:,0], X[:,1], marker='o', s=25, color='k')\n",
    "plt.scatter(X[indices][0][:][:,0], X[indices][0][:][:,1], \n",
    "        marker='o', s=150, color='k', facecolors='none')\n",
    "plt.scatter(input_point[:,0], input_point[:,1],\n",
    "        marker='x', s=150, color='k')\n",
    "\n",
    "plt.show()"
   ]
  }
 ],
 "metadata": {
  "kernelspec": {
   "display_name": "Python 3",
   "language": "python",
   "name": "python3"
  },
  "language_info": {
   "codemirror_mode": {
    "name": "ipython",
    "version": 3
   },
   "file_extension": ".py",
   "mimetype": "text/x-python",
   "name": "python",
   "nbconvert_exporter": "python",
   "pygments_lexer": "ipython3",
   "version": "3.6.6"
  }
 },
 "nbformat": 4,
 "nbformat_minor": 2
}
