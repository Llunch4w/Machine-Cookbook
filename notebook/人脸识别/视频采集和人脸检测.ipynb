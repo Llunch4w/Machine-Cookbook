{
 "cells": [
  {
   "cell_type": "markdown",
   "metadata": {},
   "source": [
    "利用opencv-python从网络摄像头采集视频"
   ]
  },
  {
   "cell_type": "code",
   "execution_count": 1,
   "metadata": {},
   "outputs": [],
   "source": [
    "import cv2\n",
    "\n",
    "# 0输入参数指定网络摄像头的ID\n",
    "cap = cv2.VideoCapture(0)\n",
    "# 定义网络摄像头采集图像的比例系数\n",
    "scaling_factor = 0.5\n",
    "# 启动一个无限循环采集帧，直到按下Esc键\n",
    "while True:\n",
    "    ret, frame = cap.read()\n",
    "    # 调整帧的大小\n",
    "    frame = cv2.resize(frame, None, fx=scaling_factor, fy=scaling_factor, \n",
    "            interpolation=cv2.INTER_AREA)\n",
    "    # 显示帧\n",
    "    cv2.imshow('Webcam', frame)\n",
    "    # 等待1ms，然后采集下一帧\n",
    "    c = cv2.waitKey(1)\n",
    "    if c == 27:\n",
    "        break\n",
    "\n",
    "# 释放视频采集对象\n",
    "cap.release()\n",
    "# 在结束代码之前关闭所有活动窗体\n",
    "cv2.destroyAllWindows()"
   ]
  },
  {
   "cell_type": "markdown",
   "metadata": {},
   "source": [
    "**用Haar级联创建一个人脸识别器**    \n",
    "Haar级联通过在多个尺度上从图像中提取大量的简单特征来实现。简单特征主要指边、线、矩形特征等。\n",
    "这些特征都非常易于计算，然后通过创建一系列简单的分类器来训练。\n",
    "使用自适应增强技术可以使得这个过程更健壮。"
   ]
  },
  {
   "cell_type": "code",
   "execution_count": 3,
   "metadata": {},
   "outputs": [],
   "source": [
    "import cv2\n",
    "import numpy as np\n",
    "\n",
    "# 加载人脸检测的级联文件\n",
    "face_cascade = cv2.CascadeClassifier('cascade_files/haarcascade_frontalface_alt.xml')\n",
    "# 确定级联文件是否正确地加载\n",
    "if face_cascade.empty():\n",
    "    raise IOError('Unable to load the face cascade classifier xml file')\n",
    "    \n",
    "# 生成一个视频采集对象\n",
    "cap = cv2.VideoCapture(0)\n",
    "scaling_factor = 0.5\n",
    "while True:\n",
    "    ret, frame = cap.read()\n",
    "    frame = cv2.resize(frame, None, fx=scaling_factor, fy=scaling_factor, \n",
    "            interpolation=cv2.INTER_AREA)\n",
    "    # 转为灰度图\n",
    "    gray = cv2.cvtColor(frame, cv2.COLOR_BGR2GRAY)\n",
    "    # 在灰度图上运行人脸检测器。\n",
    "    # 参数1.3是指每个阶段的乘积系数。参数5是指每个候选矩形应该拥有的最小近邻数量。候选矩形是指人脸可能被检测到的候选区域\n",
    "    face_rects = face_cascade.detectMultiScale(gray, 1.3, 5)\n",
    "    # 在脸部画出矩形\n",
    "    for (x,y,w,h) in face_rects:\n",
    "        cv2.rectangle(frame, (x,y), (x+w,y+h), (0,255,0), 3)\n",
    "    cv2.imshow('Face Detector', frame)\n",
    "    c = cv2.waitKey(1)\n",
    "    if c == 27:\n",
    "        break\n",
    "        \n",
    "cap.release()\n",
    "cv2.destroyAllWindows()"
   ]
  },
  {
   "cell_type": "markdown",
   "metadata": {},
   "source": [
    "下面用这种方法检测视频中的眼睛和鼻子"
   ]
  },
  {
   "cell_type": "code",
   "execution_count": 5,
   "metadata": {},
   "outputs": [],
   "source": [
    "import cv2\n",
    "import numpy as np\n",
    "\n",
    "face_cascade = cv2.CascadeClassifier('cascade_files/haarcascade_frontalface_alt.xml')\n",
    "eye_cascade = cv2.CascadeClassifier('cascade_files/haarcascade_eye.xml')\n",
    "nose_cascade = cv2.CascadeClassifier('cascade_files/haarcascade_mcs_nose.xml')\n",
    "\n",
    "if face_cascade.empty():\n",
    "    raise IOError('Unable to load the face cascade classifier xml file')\n",
    "if eye_cascade.empty():\n",
    "    raise IOError('Unable to load the eye cascade classifier xml file')\n",
    "if nose_cascade.empty():\n",
    "    raise IOError('Unable to load the nose cascade classifier xml file')\n",
    "    \n",
    "cap = cv2.VideoCapture(0)\n",
    "scaling_factor = 0.5\n",
    "while True:\n",
    "    ret, frame = cap.read()\n",
    "    frame = cv2.resize(frame, None, fx=scaling_factor, fy=scaling_factor, \n",
    "            interpolation=cv2.INTER_AREA)\n",
    "    gray = cv2.cvtColor(frame, cv2.COLOR_BGR2GRAY)\n",
    "    faces = face_cascade.detectMultiScale(gray, 1.3, 5)\n",
    "    for (x,y,w,h) in faces:\n",
    "        # 从彩色和灰度图中提取人脸ROI信息\n",
    "        roi_gray = gray[y:y+h, x:x+w]\n",
    "        roi_color = frame[y:y+h, x:x+w]\n",
    "        # 从灰度图ROI信息中检测眼睛\n",
    "        eye_rects = eye_cascade.detectMultiScale(roi_gray)\n",
    "        # 检测鼻子\n",
    "        nose_rects = nose_cascade.detectMultiScale(roi_gray, 1.3, 5)\n",
    "        # 在眼睛周围画绿色的圆\n",
    "        for (x_eye, y_eye, w_eye, h_eye) in eye_rects:\n",
    "            center = (int(x_eye + 0.5*w_eye), int(y_eye + 0.5*h_eye))\n",
    "            radius = int(0.3 * (w_eye + h_eye))\n",
    "            color = (0, 255, 0)\n",
    "            thickness = 3\n",
    "            cv2.circle(roi_color, center, radius, color, thickness)\n",
    "        # 在鼻子周围画矩形\n",
    "        for (x_nose, y_nose, w_nose, h_nose) in nose_rects:\n",
    "            cv2.rectangle(roi_color, (x_nose, y_nose), (x_nose+w_nose, \n",
    "                y_nose+h_nose), (0,255,0), 3)\n",
    "            break\n",
    "    cv2.imshow('Eye and nose detector', frame)\n",
    "    c = cv2.waitKey(1)\n",
    "    if c == 27:\n",
    "        break\n",
    "            \n",
    "cap.release()\n",
    "cv2.destroyAllWindows()        "
   ]
  }
 ],
 "metadata": {
  "kernelspec": {
   "display_name": "Python 3",
   "language": "python",
   "name": "python3"
  },
  "language_info": {
   "codemirror_mode": {
    "name": "ipython",
    "version": 3
   },
   "file_extension": ".py",
   "mimetype": "text/x-python",
   "name": "python",
   "nbconvert_exporter": "python",
   "pygments_lexer": "ipython3",
   "version": "3.6.6"
  }
 },
 "nbformat": 4,
 "nbformat_minor": 2
}
