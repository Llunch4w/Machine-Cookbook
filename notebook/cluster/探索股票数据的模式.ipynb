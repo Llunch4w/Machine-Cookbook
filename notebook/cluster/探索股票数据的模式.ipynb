{
 "cells": [
  {
   "cell_type": "markdown",
   "metadata": {},
   "source": [
    "本项目利用无监督学习进行股票数据分析。     \n",
    "假设我们并不知道股票市场有多少集群，因此需要用一种近邻传播聚类算法来集群。     \n",
    "这种算法会找出数据中每个集群的代表性数据点，会找到数据点之间的相似性度量，并把所有的数据点看成潜在的\n",
    "代表性数据点，也称为取样器"
   ]
  },
  {
   "cell_type": "code",
   "execution_count": 16,
   "metadata": {},
   "outputs": [
    {
     "ename": "ImportError",
     "evalue": "cannot import name 'uotes_historical_yahoo_ochl'",
     "output_type": "error",
     "traceback": [
      "\u001b[1;31m---------------------------------------------------------------------------\u001b[0m",
      "\u001b[1;31mImportError\u001b[0m                               Traceback (most recent call last)",
      "\u001b[1;32m<ipython-input-16-c0e233ad8675>\u001b[0m in \u001b[0;36m<module>\u001b[1;34m\u001b[0m\n\u001b[0;32m      5\u001b[0m \u001b[1;32mimport\u001b[0m \u001b[0mmatplotlib\u001b[0m\u001b[1;33m.\u001b[0m\u001b[0mpyplot\u001b[0m \u001b[1;32mas\u001b[0m \u001b[0mplt\u001b[0m\u001b[1;33m\u001b[0m\u001b[0m\n\u001b[0;32m      6\u001b[0m \u001b[1;32mfrom\u001b[0m \u001b[0msklearn\u001b[0m \u001b[1;32mimport\u001b[0m \u001b[0mcovariance\u001b[0m\u001b[1;33m,\u001b[0m \u001b[0mcluster\u001b[0m\u001b[1;33m\u001b[0m\u001b[0m\n\u001b[1;32m----> 7\u001b[1;33m \u001b[1;32mfrom\u001b[0m \u001b[0mmpl_finance\u001b[0m \u001b[1;32mimport\u001b[0m \u001b[0muotes_historical_yahoo_ochl\u001b[0m \u001b[1;32mas\u001b[0m \u001b[0mquotes_yahoo\u001b[0m\u001b[1;33m\u001b[0m\u001b[0m\n\u001b[0m\u001b[0;32m      8\u001b[0m \u001b[1;33m\u001b[0m\u001b[0m\n\u001b[0;32m      9\u001b[0m \u001b[1;31m# 输入符号信息文件\u001b[0m\u001b[1;33m\u001b[0m\u001b[1;33m\u001b[0m\u001b[0m\n",
      "\u001b[1;31mImportError\u001b[0m: cannot import name 'uotes_historical_yahoo_ochl'"
     ]
    }
   ],
   "source": [
    "import json\n",
    "import datetime\n",
    "\n",
    "import numpy as np\n",
    "import matplotlib.pyplot as plt\n",
    "from sklearn import covariance, cluster\n",
    "from mpl_finance import uotes_historical_yahoo_ochl as quotes_yahoo\n",
    "\n",
    "# 输入符号信息文件\n",
    "symbol_file = 'symbol_map.json'\n",
    "# 加载符号映射信息\n",
    "with open(symbol_file, 'r') as f:\n",
    "    symbol_dict = json.loads(f.read())\n",
    "symbols, names = np.array(list(symbol_dict.items())).T\n",
    "\n",
    "# 指定分析时间段\n",
    "start_date = datetime.datetime(2004, 4, 5)\n",
    "end_date = datetime.datetime(2007, 6, 2)\n",
    "\n",
    "# 读取输入数据\n",
    "quotes = [quotes_yahoo(symbol, start_date, end_date, asobject=True) \n",
    "                for symbol in symbols]\n",
    "\n",
    "# 使用每天的开盘价和收盘价的差异来分析数据\n",
    "# 提取开盘价和收盘价\n",
    "opening_quotes = np.array([quote.open for quote in quotes]).astype(np.float)\n",
    "closing_quotes = np.array([quote.close for quote in quotes]).astype(np.float)\n",
    "# 计算每日股价波动\n",
    "delta_quotes = closing_quotes - opening_quotes\n",
    "\n",
    "# 建立一个协方差图模型\n",
    "edge_model = covariance.GraphLassoCV()\n",
    "# 数据标准化\n",
    "X = delta_quotes.copy().T\n",
    "X /= X.std(axis=0)\n",
    "# 训练模型\n",
    "with np.errstate(invalid='ignore'): # 用来忽略警告\n",
    "    edge_model.fit(X)\n",
    "# 用近邻传播算法建立聚类模型\n",
    "_, labels = cluster.affinity_propagation(edge_model.covariance_)\n",
    "num_labels = labels.max()\n",
    "# 打印聚类结果\n",
    "for i in range(num_labels + 1):\n",
    "    print(\"Cluster\", i+1, \"-->\", ', '.join(names[labels == i]))\n"
   ]
  }
 ],
 "metadata": {
  "kernelspec": {
   "display_name": "Python 3",
   "language": "python",
   "name": "python3"
  },
  "language_info": {
   "codemirror_mode": {
    "name": "ipython",
    "version": 3
   },
   "file_extension": ".py",
   "mimetype": "text/x-python",
   "name": "python",
   "nbconvert_exporter": "python",
   "pygments_lexer": "ipython3",
   "version": "3.6.6"
  }
 },
 "nbformat": 4,
 "nbformat_minor": 2
}
