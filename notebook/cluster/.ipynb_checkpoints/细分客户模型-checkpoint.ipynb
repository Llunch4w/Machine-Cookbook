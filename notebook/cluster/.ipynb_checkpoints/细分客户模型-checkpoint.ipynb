{
 "cells": [
  {
   "cell_type": "markdown",
   "metadata": {},
   "source": [
    "无监督学习的主要应用场景之一就是市场细分。    \n",
    "此项目将与一个零售商和他的客户打交道，对数据表wholesale.csv中的数据进行分析。\n",
    "数据表中包含了不同类型商品的销售数据，目标是找到数据集群，从而为客户提供最优的销售和分销策略"
   ]
  },
  {
   "cell_type": "code",
   "execution_count": 13,
   "metadata": {},
   "outputs": [
    {
     "name": "stdout",
     "output_type": "stream",
     "text": [
      "Number of clusters in input data =  8\n",
      "\n",
      "Centroids of clusters:\n",
      "['Fresh', 'Milk', 'Grocery', 'Frozen', 'Detergents_Paper', 'Delicassen']\n",
      "Fre\tMil\tGro\tFro\tDet\tDel\n",
      "9632\t4671\t6593\t2570\t2296\t1248\n",
      "40204\t46314\t57584\t5518\t25436\t4241\n",
      "112151\t29627\t18148\t16745\t4948\t8550\n",
      "36847\t43950\t20170\t36534\t239\t47943\n",
      "32717\t16784\t13626\t60869\t1272\t5609\n",
      "22925\t73498\t32114\t987\t20070\t903\n",
      "16117\t46197\t92780\t1026\t40827\t2944\n",
      "8565\t4980\t67298\t131\t38102\t1215\n"
     ]
    },
    {
     "data": {
      "image/png": "[encoded data removed]",
      "text/plain": [
       "<Figure size 432x288 with 1 Axes>"
      ]
     },
     "metadata": {
      "needs_background": "light"
     },
     "output_type": "display_data"
    }
   ],
   "source": [
    "import csv\n",
    "\n",
    "import numpy as np\n",
    "from sklearn import cluster, covariance, manifold\n",
    "from sklearn.cluster import MeanShift, estimate_bandwidth\n",
    "import matplotlib.pyplot as plt\n",
    "\n",
    "# 加载数据\n",
    "def csv_read(input_file):\n",
    "    import csv\n",
    "    file_reader = csv.reader(open(input_file, 'r'), delimiter=',')\n",
    "    X = []\n",
    "    for count, row in enumerate(file_reader):\n",
    "        if not count:\n",
    "            names = row[2:]\n",
    "            continue\n",
    "        X.append([float(x) for x in row[2:]])\n",
    "    X = np.array(X)\n",
    "    return X,names\n",
    "\n",
    "# 均值漂移模型\n",
    "def meanshift(data):\n",
    "    # 通过指定输入参数创建一个均值漂移模型\n",
    "    # 设置带宽参数bandwidth\n",
    "    bandwidth = estimate_bandwidth(data,quantile=0.8,n_samples=len(data))\n",
    "    # 这一方法会根据quantile比例的最大近邻距离，估算出整个数据集的平均最大近邻距离。默认这里的quantile是0.3,取值范围在[0,1]\n",
    "\n",
    "    # MeanShift计算聚类\n",
    "    meanshift_estimator = MeanShift(bandwidth=bandwidth,bin_seeding=True)\n",
    "\n",
    "    # 训练模型\n",
    "    meanshift_estimator.fit(data)\n",
    "    \n",
    "    return meanshift_estimator\n",
    "\n",
    "    \n",
    "X,names = csv_read('wholesale.csv')\n",
    "meanshift_estimator = meanshift(X)\n",
    "\n",
    "# 提取标记\n",
    "labels = meanshift_estimator.labels_\n",
    "\n",
    "# 从模型中提取集群的中心点，然后打印集群数量\n",
    "centroids = meanshift_estimator.cluster_centers_\n",
    "num_clusters = len(np.unique(labels))\n",
    "print(\"Number of clusters in input data = \",num_clusters)\n",
    "\n",
    "# 打印获得的集群中心\n",
    "print(\"\\nCentroids of clusters:\")\n",
    "print('\\t'.join([name[:3] for name in names]))\n",
    "for centroid in centroids:\n",
    "    print('\\t'.join([str(int(x)) for x in centroid]))\n",
    "    \n",
    "    \n",
    "# 把两个特征(milk和groceries)的聚类结果可视化\n",
    "# 数据可视化\n",
    "centroids_milk_groceries = centroids[:, 1:3]\n",
    "# 用centroids_milk_groceries中的坐标画出中心点\n",
    "plt.figure()\n",
    "plt.scatter(centroids_milk_groceries[:,0], centroids_milk_groceries[:,1], \n",
    "        s=100, edgecolors='k', facecolors='none')\n",
    "\n",
    "offset = 0.2\n",
    "# numpy.ptp() 该函数返回沿轴的值的范围（最大值– 最小值）\n",
    "plt.xlim(centroids_milk_groceries[:,0].min() - offset * centroids_milk_groceries[:,0].ptp(),\n",
    "        centroids_milk_groceries[:,0].max() + offset * centroids_milk_groceries[:,0].ptp(),)\n",
    "plt.ylim(centroids_milk_groceries[:,1].min() - offset * centroids_milk_groceries[:,1].ptp(),\n",
    "        centroids_milk_groceries[:,1].max() + offset * centroids_milk_groceries[:,1].ptp())\n",
    "\n",
    "plt.title('Centroids of clusters for milk and groceries')\n",
    "plt.show()\n",
    "\n"
   ]
  }
 ],
 "metadata": {
  "kernelspec": {
   "display_name": "Python 3",
   "language": "python",
   "name": "python3"
  },
  "language_info": {
   "codemirror_mode": {
    "name": "ipython",
    "version": 3
   },
   "file_extension": ".py",
   "mimetype": "text/x-python",
   "name": "python",
   "nbconvert_exporter": "python",
   "pygments_lexer": "ipython3",
   "version": "3.6.6"
  }
 },
 "nbformat": 4,
 "nbformat_minor": 2
}
