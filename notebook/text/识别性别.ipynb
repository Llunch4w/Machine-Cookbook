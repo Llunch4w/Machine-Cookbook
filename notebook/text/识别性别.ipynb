{
 "cells": [
  {
   "cell_type": "markdown",
   "metadata": {},
   "source": [
    "在NLP中，通过姓名识别性别是一个很有趣的任务。    \n",
    "这里将用到启发式的方法，即姓名的最后几个字符可以界定性别特征。\n",
    "例如如果一个名字以'la'结尾，那么它很有可能是一位女性的名字，例如‘Angela’，‘Layla’"
   ]
  },
  {
   "cell_type": "code",
   "execution_count": 10,
   "metadata": {},
   "outputs": [
    {
     "name": "stdout",
     "output_type": "stream",
     "text": [
      "\n",
      "Number of letters: 1\n",
      "Accuracy ==> 76.0%\n",
      "Leonardo ==> male\n",
      "Amy ==> female\n",
      "Sam ==> male\n",
      "\n",
      "Number of letters: 2\n",
      "Accuracy ==> 79.0%\n",
      "Leonardo ==> male\n",
      "Amy ==> female\n",
      "Sam ==> male\n",
      "\n",
      "Number of letters: 3\n",
      "Accuracy ==> 77.0%\n",
      "Leonardo ==> male\n",
      "Amy ==> female\n",
      "Sam ==> female\n",
      "\n",
      "Number of letters: 4\n",
      "Accuracy ==> 71.0%\n",
      "Leonardo ==> male\n",
      "Amy ==> female\n",
      "Sam ==> female\n"
     ]
    }
   ],
   "source": [
    "import random\n",
    "from nltk.corpus import names\n",
    "from nltk import NaiveBayesClassifier\n",
    "from nltk.classify import accuracy as nltk_accuracy\n",
    "\n",
    "# 定义提取单词特征函数\n",
    "def gender_features(word, num_letters=2):\n",
    "    return {'feature': word[-num_letters:].lower()}\n",
    "\n",
    "# 提取标记名称\n",
    "labeled_names = ([(name, 'male') for name in names.words('male.txt')] +\n",
    "            [(name, 'female') for name in names.words('female.txt')])\n",
    "# 设置随机生成数的种子值，并混合搅乱训练数据\n",
    "random.seed(7)\n",
    "random.shuffle(labeled_names)\n",
    "# 定义一些输入的姓名\n",
    "input_names = ['Leonardo', 'Amy', 'Sam']\n",
    "\n",
    "# 因为不知道需要多少个末尾字符，这里将这个参数设置为1~5.每次循环执行，都会截取相应大小的末尾字符个数\n",
    "for i in range(1, 5):\n",
    "        print('\\nNumber of letters:', i)\n",
    "        featuresets = [(gender_features(n, i), gender) for (n, gender) in labeled_names]\n",
    "        train_set, test_set = featuresets[500:], featuresets[:500]\n",
    "        # 用朴素贝叶斯分类器做分类\n",
    "        classifier = NaiveBayesClassifier.train(train_set)\n",
    "        # 用参数空间的每一个值评价分类器的效果\n",
    "        print('Accuracy ==>', str(100 * round(nltk_accuracy(classifier, test_set),2)) + str('%'))\n",
    "        # 为新输入预测输出结果\n",
    "        for name in input_names:\n",
    "            print(name, '==>', classifier.classify(gender_features(name, i)))"
   ]
  }
 ],
 "metadata": {
  "kernelspec": {
   "display_name": "Python 3",
   "language": "python",
   "name": "python3"
  },
  "language_info": {
   "codemirror_mode": {
    "name": "ipython",
    "version": 3
   },
   "file_extension": ".py",
   "mimetype": "text/x-python",
   "name": "python",
   "nbconvert_exporter": "python",
   "pygments_lexer": "ipython3",
   "version": "3.6.6"
  }
 },
 "nbformat": 4,
 "nbformat_minor": 2
}
