{
 "cells": [
  {
   "cell_type": "markdown",
   "metadata": {},
   "source": [
    "文本分类的目的是将文本文档分为不同的类。     \n",
    "采用一种技术，它基于一种叫做tf-idf的统计数据，它表示词频-逆文档频率(term frequency-inverse document frequency)     \n",
    "这个统计工具有助于理解一个单词在一组文档中对某一个文档的重要性"
   ]
  },
  {
   "cell_type": "markdown",
   "metadata": {},
   "source": [
    "**词频(The term frequency,TF)** 表示一个单词在给定文档中出现的频次。由于不同文档的长度不同，\n",
    "这些频次的直方图看起来会相差很大，因此需要将其规范化，使这些频次可以在平等的环境下对比。\n",
    "为了实现规范化，我们用频次除以文档中所有单词的个数。        \n",
    "**逆文档频率(inverse document frequency,IDF)** 表示给定单词的重要性。当需要计算词频时，假定所有单词是\n",
    "同等重要的。为了抗衡那些经常出现的单词的频率，如is,be等，需要一个系数将其权重变小。\n",
    "我们需要计算文档总数目除以该单词出现的文档数目的比值。逆文档频率对该比值取对数值。"
   ]
  },
  {
   "cell_type": "code",
   "execution_count": 2,
   "metadata": {},
   "outputs": [
    {
     "name": "stdout",
     "output_type": "stream",
     "text": [
      "\n",
      "Dimensions of training data: (2968, 40605)\n",
      "\n",
      "Input: The curveballs of right handed pitchers tend to curve to the left \n",
      "Predicted category: Baseball\n",
      "\n",
      "Input: Caesar cipher is an ancient form of encryption \n",
      "Predicted category: Cryptography\n",
      "\n",
      "Input: This two-wheeler is really good on slippery roads \n",
      "Predicted category: Motorcycles\n"
     ]
    }
   ],
   "source": [
    "from sklearn.datasets import fetch_20newsgroups\n",
    "\n",
    "# 选择一个类型列表，并且用词典映射的方式定义。这些类型是加载的新闻组的数据集中的一部分\n",
    "category_map = {'misc.forsale': 'Sales', 'rec.motorcycles': 'Motorcycles', \n",
    "        'rec.sport.baseball': 'Baseball', 'sci.crypt': 'Cryptography', \n",
    "        'sci.space': 'Space'}\n",
    "\n",
    "# 基于刚刚定义的类型加载训练数据\n",
    "training_data = fetch_20newsgroups(subset='train', \n",
    "        categories=category_map.keys(), shuffle=True, random_state=7)\n",
    "\n",
    "# 导入特征提取器\n",
    "from sklearn.feature_extraction.text import CountVectorizer\n",
    "\n",
    "# 用训练数据提取特征\n",
    "vectorizer = CountVectorizer()\n",
    "X_train_termcounts = vectorizer.fit_transform(training_data.data)\n",
    "print(\"\\nDimensions of training data:\", X_train_termcounts.shape)\n",
    "\n",
    "# 训练分类器\n",
    "from sklearn.naive_bayes import MultinomialNB\n",
    "from sklearn.feature_extraction.text import TfidfTransformer\n",
    "# 定义一些随机输入的句子\n",
    "input_data = [\n",
    "    \"The curveballs of right handed pitchers tend to curve to the left\", \n",
    "    \"Caesar cipher is an ancient form of encryption\",\n",
    "    \"This two-wheeler is really good on slippery roads\"\n",
    "]\n",
    "# 定义tf-idf变换器对象并训练\n",
    "tfidf_transformer = TfidfTransformer()\n",
    "X_train_tfidf = tfidf_transformer.fit_transform(X_train_termcounts)\n",
    "# 得到特征向量后，用该数据训练多项式朴素贝叶斯分类器\n",
    "classifier = MultinomialNB().fit(X_train_tfidf, training_data.target)\n",
    "# 用词频统计转换输入数据\n",
    "X_input_termcounts = vectorizer.transform(input_data)\n",
    "# 用tf-idf变换器交换输入数据\n",
    "X_input_tfidf = tfidf_transformer.transform(X_input_termcounts)\n",
    "\n",
    "# 用训练过的分类器预测这些输入句子的输出类型\n",
    "# 预测输出类型\n",
    "predicted_categories = classifier.predict(X_input_tfidf)\n",
    "# 打印输出结果\n",
    "for sentence, category in zip(input_data, predicted_categories):\n",
    "    print('\\nInput:', sentence, '\\nPredicted category:', \\\n",
    "            category_map[training_data.target_names[category]])"
   ]
  }
 ],
 "metadata": {
  "kernelspec": {
   "display_name": "Python 3",
   "language": "python",
   "name": "python3"
  },
  "language_info": {
   "codemirror_mode": {
    "name": "ipython",
    "version": 3
   },
   "file_extension": ".py",
   "mimetype": "text/x-python",
   "name": "python",
   "nbconvert_exporter": "python",
   "pygments_lexer": "ipython3",
   "version": "3.6.6"
  }
 },
 "nbformat": 4,
 "nbformat_minor": 2
}
